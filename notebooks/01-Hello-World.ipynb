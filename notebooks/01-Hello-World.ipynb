{
 "cells": [
  {
   "cell_type": "code",
   "execution_count": 1,
   "id": "3bc9827f-1765-4c0e-9e4f-106a0935e10f",
   "metadata": {},
   "outputs": [],
   "source": [
    "import torch"
   ]
  },
  {
   "cell_type": "markdown",
   "id": "74bbb3bb-71ee-445f-b334-bec47510359b",
   "metadata": {},
   "source": [
    "## 查看版本"
   ]
  },
  {
   "cell_type": "code",
   "execution_count": 2,
   "id": "0bf11ad4-a705-4add-9fe8-23077628eea9",
   "metadata": {},
   "outputs": [
    {
     "data": {
      "text/plain": [
       "'2.5.1+cu121'"
      ]
     },
     "execution_count": 2,
     "metadata": {},
     "output_type": "execute_result"
    }
   ],
   "source": [
    "torch.__version__"
   ]
  },
  {
   "cell_type": "markdown",
   "id": "525e45f2-c92a-42cd-83f0-024ac9eeb12f",
   "metadata": {},
   "source": [
    "## CUDA可用性"
   ]
  },
  {
   "cell_type": "code",
   "execution_count": 3,
   "id": "35a44ff1-4496-4f96-8b55-1447b4d28a69",
   "metadata": {},
   "outputs": [
    {
     "data": {
      "text/plain": [
       "True"
      ]
     },
     "execution_count": 3,
     "metadata": {},
     "output_type": "execute_result"
    }
   ],
   "source": [
    "torch.cuda.is_available()"
   ]
  },
  {
   "cell_type": "code",
   "execution_count": null,
   "id": "2ef681a4-0d98-4e96-bda8-80eb528d0ec1",
   "metadata": {},
   "outputs": [],
   "source": []
  }
 ],
 "metadata": {
  "kernelspec": {
   "display_name": "Python 3 (ipykernel)",
   "language": "python",
   "name": "python3"
  },
  "language_info": {
   "codemirror_mode": {
    "name": "ipython",
    "version": 3
   },
   "file_extension": ".py",
   "mimetype": "text/x-python",
   "name": "python",
   "nbconvert_exporter": "python",
   "pygments_lexer": "ipython3",
   "version": "3.13.1"
  }
 },
 "nbformat": 4,
 "nbformat_minor": 5
}
