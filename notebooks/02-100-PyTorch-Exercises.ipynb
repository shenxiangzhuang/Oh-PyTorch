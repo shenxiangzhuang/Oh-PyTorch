{
 "cells": [
  {
   "cell_type": "markdown",
   "id": "aeaa538a-dd8d-4546-bfa6-1366ea51a428",
   "metadata": {},
   "source": [
    "# 100 Numpy Exercises solved in PyTorch\n",
    "\n",
    "\n",
    "**Symbols**: \n",
    "- 🆘： need some help to improve the solution\n",
    "- 🔧： do some rewrite to the problem\n",
    "- 🚫： ignore the problem"
   ]
  },
  {
   "cell_type": "markdown",
   "id": "720e7d43-f828-4c60-b4cf-cf37e1149055",
   "metadata": {},
   "source": [
    "## 1. Import the torch package(★☆☆)"
   ]
  },
  {
   "cell_type": "code",
   "execution_count": 1,
   "id": "dca529a2-30ce-4394-b846-8747d7b0c1ee",
   "metadata": {},
   "outputs": [],
   "source": [
    "import torch"
   ]
  },
  {
   "cell_type": "markdown",
   "id": "b8126380-db0f-464a-bb6f-606a4362139d",
   "metadata": {},
   "source": [
    "## 2. Print the torch version and the configuration (★☆☆)"
   ]
  },
  {
   "cell_type": "code",
   "execution_count": 2,
   "id": "dc43097a-020e-41b2-88e6-d7654653a8ec",
   "metadata": {},
   "outputs": [
    {
     "name": "stdout",
     "output_type": "stream",
     "text": [
      "2.5.1+cu121\n",
      "CUDA Availability: True\n",
      "CUDA Version: 12.1\n",
      "CUDA Device Count: 1\n",
      "Device 0: NVIDIA GeForce RTX 4060 Ti\n"
     ]
    }
   ],
   "source": [
    "print(torch.__version__)\n",
    "print(f\"CUDA Availability: {torch.cuda.is_available()}\")\n",
    "if torch.cuda.is_available():\n",
    "    print(f\"CUDA Version: {torch.version.cuda}\")\n",
    "    print(f\"CUDA Device Count: {torch.cuda.device_count()}\")\n",
    "    for i in range(torch.cuda.device_count()):\n",
    "        print(f\"Device {i}: {torch.cuda.get_device_name(i)}\")"
   ]
  },
  {
   "cell_type": "markdown",
   "id": "708dab4e-262f-4f24-98b9-8df9226d3b3a",
   "metadata": {},
   "source": [
    "## 3. Create a null vector of size 10 (★☆☆)\n"
   ]
  },
  {
   "cell_type": "code",
   "execution_count": 3,
   "id": "294ea40c-6426-4a24-8a55-5268d5bdaea3",
   "metadata": {},
   "outputs": [
    {
     "data": {
      "text/plain": [
       "tensor([0., 0., 0., 0., 0., 0., 0., 0., 0., 0.])"
      ]
     },
     "execution_count": 3,
     "metadata": {},
     "output_type": "execute_result"
    }
   ],
   "source": [
    "z = torch.zeros(10)\n",
    "z"
   ]
  },
  {
   "cell_type": "code",
   "execution_count": 4,
   "id": "6b76c0ac-1437-40e5-a084-ce3c71298468",
   "metadata": {},
   "outputs": [
    {
     "data": {
      "text/plain": [
       "tensor([0., 0., 0., 0., 0., 0., 0., 0., 0., 0.])"
      ]
     },
     "execution_count": 4,
     "metadata": {},
     "output_type": "execute_result"
    }
   ],
   "source": [
    "z = torch.zeros((10,))\n",
    "z"
   ]
  },
  {
   "cell_type": "markdown",
   "id": "179b8c98-fec2-42c5-ae8d-8fdc8f5f29d4",
   "metadata": {},
   "source": [
    "## 4. How to find the memory size of any array (★☆☆)"
   ]
  },
  {
   "cell_type": "code",
   "execution_count": 5,
   "id": "cc93bffb-3e17-43f2-81a8-b30c54d4516a",
   "metadata": {},
   "outputs": [
    {
     "data": {
      "text/plain": [
       "tensor([0., 0., 0., 0., 0., 0., 0., 0., 0., 0.])"
      ]
     },
     "execution_count": 5,
     "metadata": {},
     "output_type": "execute_result"
    }
   ],
   "source": [
    "z = torch.zeros(10)\n",
    "z"
   ]
  },
  {
   "cell_type": "code",
   "execution_count": 6,
   "id": "37954b6a-113c-45be-8d50-1ed308abac38",
   "metadata": {},
   "outputs": [
    {
     "data": {
      "text/plain": [
       "(torch.float32, 4)"
      ]
     },
     "execution_count": 6,
     "metadata": {},
     "output_type": "execute_result"
    }
   ],
   "source": [
    "z.dtype, z.element_size()"
   ]
  },
  {
   "cell_type": "code",
   "execution_count": 7,
   "id": "283da6ce-6888-4174-bd49-6131e5e5438b",
   "metadata": {},
   "outputs": [
    {
     "name": "stdout",
     "output_type": "stream",
     "text": [
      "40 bytes\n"
     ]
    }
   ],
   "source": [
    "print(\"%d bytes\" % (z.numel() * z.element_size()))"
   ]
  },
  {
   "cell_type": "markdown",
   "id": "fdc52346-ed71-4fbc-b7d3-0546004f6695",
   "metadata": {},
   "source": [
    "## 5. How to get the documentation of the torch add function from the command line? (★☆☆)"
   ]
  },
  {
   "cell_type": "code",
   "execution_count": 8,
   "id": "11eacf37-ef0e-417e-81b5-53764d117697",
   "metadata": {},
   "outputs": [
    {
     "name": "stdout",
     "output_type": "stream",
     "text": [
      "Help on built-in function add in module torch:\n",
      "\n",
      "add(...)\n",
      "    add(input, other, *, alpha=1, out=None) -> Tensor\n",
      "\n",
      "    Adds :attr:`other`, scaled by :attr:`alpha`, to :attr:`input`.\n",
      "\n",
      "    .. math::\n",
      "        \\text{{out}}_i = \\text{{input}}_i + \\text{{alpha}} \\times \\text{{other}}_i\n",
      "\n",
      "\n",
      "    Supports :ref:`broadcasting to a common shape <broadcasting-semantics>`,\n",
      "    :ref:`type promotion <type-promotion-doc>`, and integer, float, and complex inputs.\n",
      "\n",
      "    Args:\n",
      "        input (Tensor): the input tensor.\n",
      "        other (Tensor or Number): the tensor or number to add to :attr:`input`.\n",
      "\n",
      "    Keyword arguments:\n",
      "        alpha (Number): the multiplier for :attr:`other`.\n",
      "        out (Tensor, optional): the output tensor.\n",
      "\n",
      "    Examples::\n",
      "\n",
      "        >>> a = torch.randn(4)\n",
      "        >>> a\n",
      "        tensor([ 0.0202,  1.0985,  1.3506, -0.6056])\n",
      "        >>> torch.add(a, 20)\n",
      "        tensor([ 20.0202,  21.0985,  21.3506,  19.3944])\n",
      "\n",
      "        >>> b = torch.randn(4)\n",
      "        >>> b\n",
      "        tensor([-0.9732, -0.3497,  0.6245,  0.4022])\n",
      "        >>> c = torch.randn(4, 1)\n",
      "        >>> c\n",
      "        tensor([[ 0.3743],\n",
      "                [-1.7724],\n",
      "                [-0.5811],\n",
      "                [-0.8017]])\n",
      "        >>> torch.add(b, c, alpha=10)\n",
      "        tensor([[  2.7695,   3.3930,   4.3672,   4.1450],\n",
      "                [-18.6971, -18.0736, -17.0994, -17.3216],\n",
      "                [ -6.7845,  -6.1610,  -5.1868,  -5.4090],\n",
      "                [ -8.9902,  -8.3667,  -7.3925,  -7.6147]])\n",
      "\n"
     ]
    }
   ],
   "source": [
    "!python -c \"import torch; help(torch.add)\""
   ]
  },
  {
   "cell_type": "markdown",
   "id": "7211e066-52a7-4c64-b14c-b4ae11e35870",
   "metadata": {},
   "source": [
    "## 6. Create a null vector of size 10 but the fifth value which is 1 (★☆☆)"
   ]
  },
  {
   "cell_type": "code",
   "execution_count": 9,
   "id": "03e57d91-c5ec-4c62-ba46-f518677b74c6",
   "metadata": {},
   "outputs": [
    {
     "data": {
      "text/plain": [
       "tensor([0., 0., 0., 0., 1., 0., 0., 0., 0., 0.])"
      ]
     },
     "execution_count": 9,
     "metadata": {},
     "output_type": "execute_result"
    }
   ],
   "source": [
    "z = torch.zeros(10)\n",
    "z[4] = 1\n",
    "z"
   ]
  },
  {
   "cell_type": "markdown",
   "id": "dff6bb2f-743a-4fcb-ab4d-30881ea1fe0f",
   "metadata": {},
   "source": [
    "## 7. Create a vector with values ranging from 10 to 49 (★☆☆)"
   ]
  },
  {
   "cell_type": "code",
   "execution_count": 10,
   "id": "e19338c3-41c5-4cb2-a5ba-224bf5eb31d3",
   "metadata": {},
   "outputs": [
    {
     "data": {
      "text/plain": [
       "tensor([10, 11, 12, 13, 14, 15, 16, 17, 18, 19, 20, 21, 22, 23, 24, 25, 26, 27,\n",
       "        28, 29, 30, 31, 32, 33, 34, 35, 36, 37, 38, 39, 40, 41, 42, 43, 44, 45,\n",
       "        46, 47, 48, 49])"
      ]
     },
     "execution_count": 10,
     "metadata": {},
     "output_type": "execute_result"
    }
   ],
   "source": [
    "z = torch.arange(10, 50)\n",
    "z"
   ]
  },
  {
   "cell_type": "markdown",
   "id": "6d3c215a-5f71-433a-a202-fb6d8bbe57e0",
   "metadata": {},
   "source": [
    "## 8. Reverse a vector (first element becomes last) (★☆☆)"
   ]
  },
  {
   "cell_type": "code",
   "execution_count": 11,
   "id": "d30b38ef-0fd9-4137-9f54-3be1e0d118c8",
   "metadata": {},
   "outputs": [
    {
     "data": {
      "text/plain": [
       "tensor([49, 48, 47, 46, 45, 44, 43, 42, 41, 40, 39, 38, 37, 36, 35, 34, 33, 32,\n",
       "        31, 30, 29, 28, 27, 26, 25, 24, 23, 22, 21, 20, 19, 18, 17, 16, 15, 14,\n",
       "        13, 12, 11, 10,  9,  8,  7,  6,  5,  4,  3,  2,  1,  0])"
      ]
     },
     "execution_count": 11,
     "metadata": {},
     "output_type": "execute_result"
    }
   ],
   "source": [
    "z = torch.arange(50)\n",
    "z.flip(dims=[0])"
   ]
  },
  {
   "cell_type": "markdown",
   "id": "a3a825c1-795c-437f-80b1-1b65075a36a0",
   "metadata": {},
   "source": [
    "## 9. Create a 3x3 matrix with values ranging from 0 to 8 (★☆☆)"
   ]
  },
  {
   "cell_type": "code",
   "execution_count": 12,
   "id": "672f6658-68ea-468d-a6d1-d30ae97fbfe4",
   "metadata": {},
   "outputs": [
    {
     "data": {
      "text/plain": [
       "tensor([[0, 1, 2],\n",
       "        [3, 4, 5],\n",
       "        [6, 7, 8]])"
      ]
     },
     "execution_count": 12,
     "metadata": {},
     "output_type": "execute_result"
    }
   ],
   "source": [
    "z = torch.arange(0, 9).reshape(3, 3)\n",
    "z"
   ]
  },
  {
   "cell_type": "markdown",
   "id": "6d81477a-ddc1-4e25-a0e2-7aeed9076492",
   "metadata": {},
   "source": [
    "## 10. Find indices of non-zero elements from [1,2,0,0,4,0] (★☆☆)"
   ]
  },
  {
   "cell_type": "code",
   "execution_count": 13,
   "id": "5821a8c5-2ff1-4836-8887-e2c90ee05a19",
   "metadata": {},
   "outputs": [
    {
     "data": {
      "text/plain": [
       "tensor([[0],\n",
       "        [1],\n",
       "        [4]])"
      ]
     },
     "execution_count": 13,
     "metadata": {},
     "output_type": "execute_result"
    }
   ],
   "source": [
    "z = torch.tensor([1, 2, 0, 0, 4, 0])\n",
    "torch.nonzero(z)"
   ]
  },
  {
   "cell_type": "markdown",
   "id": "1636a8c5-1734-443a-800c-af937279e52e",
   "metadata": {},
   "source": [
    "## 11. Create a 3x3 identity matrix (★☆☆)"
   ]
  },
  {
   "cell_type": "code",
   "execution_count": 14,
   "id": "507c292e-fe81-4eca-b445-3eb7ebcbb178",
   "metadata": {},
   "outputs": [
    {
     "data": {
      "text/plain": [
       "tensor([[1., 0., 0.],\n",
       "        [0., 1., 0.],\n",
       "        [0., 0., 1.]])"
      ]
     },
     "execution_count": 14,
     "metadata": {},
     "output_type": "execute_result"
    }
   ],
   "source": [
    "z = torch.eye(3)\n",
    "z"
   ]
  },
  {
   "cell_type": "markdown",
   "id": "7914d2fa-316e-4107-9de3-845043f06480",
   "metadata": {},
   "source": [
    "## 12. Create a 3x3x3 array with random values (★☆☆)"
   ]
  },
  {
   "cell_type": "code",
   "execution_count": 15,
   "id": "a90a19b0-8734-45fe-980f-d7cc73abf26c",
   "metadata": {},
   "outputs": [
    {
     "data": {
      "text/plain": [
       "tensor([[[0.5373, 0.0987, 0.9975],\n",
       "         [0.8067, 0.1883, 0.4007],\n",
       "         [0.6270, 0.1260, 0.7449]],\n",
       "\n",
       "        [[0.0398, 0.7708, 0.3449],\n",
       "         [0.1538, 0.5491, 0.5382],\n",
       "         [0.1945, 0.0316, 0.9182]],\n",
       "\n",
       "        [[0.6734, 0.2762, 0.5440],\n",
       "         [0.2755, 0.8292, 0.3843],\n",
       "         [0.6685, 0.5783, 0.5963]]])"
      ]
     },
     "execution_count": 15,
     "metadata": {},
     "output_type": "execute_result"
    }
   ],
   "source": [
    "z = torch.rand((3, 3, 3))\n",
    "z"
   ]
  },
  {
   "cell_type": "markdown",
   "id": "15c891de-b06f-42fd-85ef-3ae74ffe4a43",
   "metadata": {},
   "source": [
    "## 13. Create a 10x10 array with random values and find the minimum and maximum values (★☆☆)"
   ]
  },
  {
   "cell_type": "code",
   "execution_count": 16,
   "id": "0653024c-dba6-407b-b612-fb682a2bbf43",
   "metadata": {},
   "outputs": [
    {
     "data": {
      "text/plain": [
       "tensor([[0.4847, 0.6608, 0.1807, 0.5162, 0.6868, 0.9089, 0.6760, 0.8488, 0.0264,\n",
       "         0.2415],\n",
       "        [0.4256, 0.1857, 0.9420, 0.9065, 0.0609, 0.6046, 0.3080, 0.7818, 0.6709,\n",
       "         0.7705],\n",
       "        [0.1222, 0.7682, 0.2892, 0.8979, 0.8815, 0.9825, 0.9194, 0.2914, 0.9830,\n",
       "         0.7049],\n",
       "        [0.9772, 0.6086, 0.3138, 0.0567, 0.8133, 0.0433, 0.9546, 0.7593, 0.8447,\n",
       "         0.1365],\n",
       "        [0.2580, 0.5604, 0.1709, 0.7541, 0.3692, 0.3767, 0.3834, 0.3293, 0.2233,\n",
       "         0.4259],\n",
       "        [0.6422, 0.0406, 0.0743, 0.0847, 0.3497, 0.2500, 0.2615, 0.6489, 0.4792,\n",
       "         0.9997],\n",
       "        [0.4601, 0.5720, 0.5372, 0.9424, 0.9932, 0.6861, 0.6770, 0.4079, 0.6610,\n",
       "         0.2880],\n",
       "        [0.8998, 0.9897, 0.2213, 0.7661, 0.6601, 0.7374, 0.3961, 0.7111, 0.8696,\n",
       "         0.4879],\n",
       "        [0.0499, 0.6597, 0.5283, 0.8830, 0.3274, 0.8259, 0.2624, 0.8420, 0.6111,\n",
       "         0.2981],\n",
       "        [0.9126, 0.0900, 0.3551, 0.8958, 0.0921, 0.2008, 0.9180, 0.0201, 0.3903,\n",
       "         0.1550]])"
      ]
     },
     "execution_count": 16,
     "metadata": {},
     "output_type": "execute_result"
    }
   ],
   "source": [
    "z = torch.rand((10, 10))\n",
    "z"
   ]
  },
  {
   "cell_type": "code",
   "execution_count": 17,
   "id": "dd237ef8-d4cf-41aa-bf61-6e1651ad4681",
   "metadata": {},
   "outputs": [
    {
     "data": {
      "text/plain": [
       "(tensor(0.0201), tensor(0.9997))"
      ]
     },
     "execution_count": 17,
     "metadata": {},
     "output_type": "execute_result"
    }
   ],
   "source": [
    "z.min(), z.max()"
   ]
  },
  {
   "cell_type": "markdown",
   "id": "ffcd569a-d13a-4a44-9d5a-16d9c84e078c",
   "metadata": {},
   "source": [
    "## 14. Create a random vector of size 30 and find the mean value (★☆☆)"
   ]
  },
  {
   "cell_type": "code",
   "execution_count": 18,
   "id": "5b9a76f3-57ab-4479-80ae-628f27fb17e4",
   "metadata": {},
   "outputs": [
    {
     "data": {
      "text/plain": [
       "tensor(0.5628)"
      ]
     },
     "execution_count": 18,
     "metadata": {},
     "output_type": "execute_result"
    }
   ],
   "source": [
    "z = torch.rand(30)\n",
    "z.mean()"
   ]
  },
  {
   "cell_type": "markdown",
   "id": "9654e979-7fc8-4adf-8343-59bb79eb6696",
   "metadata": {},
   "source": [
    "## 15. Create a 2d array with 1 on the border and 0 inside (★☆☆)\n"
   ]
  },
  {
   "cell_type": "code",
   "execution_count": 19,
   "id": "63d6f5b0-971f-4a40-bbc4-d72f0aa40678",
   "metadata": {},
   "outputs": [
    {
     "data": {
      "text/plain": [
       "tensor([[1., 1., 1., 1., 1., 1., 1., 1., 1., 1.],\n",
       "        [1., 0., 0., 0., 0., 0., 0., 0., 0., 1.],\n",
       "        [1., 0., 0., 0., 0., 0., 0., 0., 0., 1.],\n",
       "        [1., 0., 0., 0., 0., 0., 0., 0., 0., 1.],\n",
       "        [1., 0., 0., 0., 0., 0., 0., 0., 0., 1.],\n",
       "        [1., 0., 0., 0., 0., 0., 0., 0., 0., 1.],\n",
       "        [1., 0., 0., 0., 0., 0., 0., 0., 0., 1.],\n",
       "        [1., 0., 0., 0., 0., 0., 0., 0., 0., 1.],\n",
       "        [1., 0., 0., 0., 0., 0., 0., 0., 0., 1.],\n",
       "        [1., 1., 1., 1., 1., 1., 1., 1., 1., 1.]])"
      ]
     },
     "execution_count": 19,
     "metadata": {},
     "output_type": "execute_result"
    }
   ],
   "source": [
    "z = torch.ones(10, 10)\n",
    "z[1:-1, 1:-1] = 0\n",
    "z"
   ]
  },
  {
   "cell_type": "markdown",
   "id": "de52aded-4a12-4e3d-bdc5-5910c6d86fc0",
   "metadata": {},
   "source": [
    "## 16. How to add a border (filled with 0's) around an existing array? (★☆☆)"
   ]
  },
  {
   "cell_type": "code",
   "execution_count": 20,
   "id": "66b4e5c5-6b06-4a19-9159-1ce165216912",
   "metadata": {},
   "outputs": [
    {
     "data": {
      "text/plain": [
       "tensor([[1., 1., 1., 1., 1.],\n",
       "        [1., 1., 1., 1., 1.],\n",
       "        [1., 1., 1., 1., 1.],\n",
       "        [1., 1., 1., 1., 1.],\n",
       "        [1., 1., 1., 1., 1.]])"
      ]
     },
     "execution_count": 20,
     "metadata": {},
     "output_type": "execute_result"
    }
   ],
   "source": [
    "z = torch.ones(5, 5)\n",
    "z"
   ]
  },
  {
   "cell_type": "code",
   "execution_count": 21,
   "id": "9a77a796-198f-420b-a216-b72327c9d59f",
   "metadata": {},
   "outputs": [
    {
     "data": {
      "text/plain": [
       "tensor([[0., 0., 0., 0., 0., 0., 0.],\n",
       "        [0., 1., 1., 1., 1., 1., 0.],\n",
       "        [0., 1., 1., 1., 1., 1., 0.],\n",
       "        [0., 1., 1., 1., 1., 1., 0.],\n",
       "        [0., 1., 1., 1., 1., 1., 0.],\n",
       "        [0., 1., 1., 1., 1., 1., 0.],\n",
       "        [0., 0., 0., 0., 0., 0., 0.]])"
      ]
     },
     "execution_count": 21,
     "metadata": {},
     "output_type": "execute_result"
    }
   ],
   "source": [
    "border_width = 1\n",
    "torch.nn.functional.pad(z, \n",
    "                        pad=(border_width, border_width, border_width, border_width), \n",
    "                        mode='constant',\n",
    "                        value=0,\n",
    "                       )"
   ]
  },
  {
   "cell_type": "markdown",
   "id": "8632610f-3be7-4607-a472-06215ba693cd",
   "metadata": {},
   "source": [
    "## 17. What is the result of the following expression? (★☆☆)\n",
    "```python\n",
    "0 * torch.nan\n",
    "torch.nan == torch.nan\n",
    "torch.inf > torch.nan\n",
    "torch.nan - torch.nan\n",
    "torch.nan in set([torch.nan])\n",
    "0.3 == 3 * 0.1\n",
    "```"
   ]
  },
  {
   "cell_type": "code",
   "execution_count": 22,
   "id": "ac21db90-e274-4e81-b356-d33f3dae67b8",
   "metadata": {},
   "outputs": [
    {
     "data": {
      "text/plain": [
       "nan"
      ]
     },
     "execution_count": 22,
     "metadata": {},
     "output_type": "execute_result"
    }
   ],
   "source": [
    "0 * torch.nan"
   ]
  },
  {
   "cell_type": "code",
   "execution_count": 23,
   "id": "e837383d-aa00-47a9-a539-de139fe6a09f",
   "metadata": {},
   "outputs": [
    {
     "data": {
      "text/plain": [
       "False"
      ]
     },
     "execution_count": 23,
     "metadata": {},
     "output_type": "execute_result"
    }
   ],
   "source": [
    "torch.nan == torch.nan"
   ]
  },
  {
   "cell_type": "code",
   "execution_count": 24,
   "id": "3f0896dc-8b48-46fa-9201-b37bcff9a4fd",
   "metadata": {},
   "outputs": [
    {
     "data": {
      "text/plain": [
       "False"
      ]
     },
     "execution_count": 24,
     "metadata": {},
     "output_type": "execute_result"
    }
   ],
   "source": [
    "torch.inf > torch.nan"
   ]
  },
  {
   "cell_type": "code",
   "execution_count": 25,
   "id": "24358979-710c-465f-a73b-c6cd72073ce1",
   "metadata": {},
   "outputs": [
    {
     "data": {
      "text/plain": [
       "nan"
      ]
     },
     "execution_count": 25,
     "metadata": {},
     "output_type": "execute_result"
    }
   ],
   "source": [
    "torch.nan - torch.nan"
   ]
  },
  {
   "cell_type": "code",
   "execution_count": 26,
   "id": "b3b07fdc-6d96-4a5b-b6f4-e4ba09b865dd",
   "metadata": {},
   "outputs": [
    {
     "data": {
      "text/plain": [
       "True"
      ]
     },
     "execution_count": 26,
     "metadata": {},
     "output_type": "execute_result"
    }
   ],
   "source": [
    "torch.nan in set([torch.nan])"
   ]
  },
  {
   "cell_type": "code",
   "execution_count": 27,
   "id": "9d24067d-785b-4ea8-9c15-71be7e6524e6",
   "metadata": {},
   "outputs": [
    {
     "data": {
      "text/plain": [
       "False"
      ]
     },
     "execution_count": 27,
     "metadata": {},
     "output_type": "execute_result"
    }
   ],
   "source": [
    "0.3 == 3 * 0.1"
   ]
  },
  {
   "cell_type": "markdown",
   "id": "05c5bc04-49c7-4e56-a368-c57aae2af521",
   "metadata": {},
   "source": [
    "## 18. Create a 5x5 matrix with values 1,2,3,4 just below the diagonal (★☆☆)"
   ]
  },
  {
   "cell_type": "code",
   "execution_count": 28,
   "id": "daa5a465-4f40-43a2-a967-f958dfbb0b59",
   "metadata": {},
   "outputs": [
    {
     "data": {
      "text/plain": [
       "tensor([[0, 0, 0, 0, 0],\n",
       "        [1, 0, 0, 0, 0],\n",
       "        [0, 2, 0, 0, 0],\n",
       "        [0, 0, 3, 0, 0],\n",
       "        [0, 0, 0, 4, 0]])"
      ]
     },
     "execution_count": 28,
     "metadata": {},
     "output_type": "execute_result"
    }
   ],
   "source": [
    "z = torch.tensor([1, 2, 3, 4])\n",
    "torch.diag(z, diagonal=-1) "
   ]
  },
  {
   "cell_type": "markdown",
   "id": "f4973ddf-0687-4f22-9869-c21442dd59ca",
   "metadata": {},
   "source": [
    "## 19. Create a 8x8 matrix and fill it with a checkerboard pattern (★☆☆)"
   ]
  },
  {
   "cell_type": "code",
   "execution_count": 29,
   "id": "7c3deaf0-8812-448a-a3a3-512f527e211b",
   "metadata": {},
   "outputs": [
    {
     "data": {
      "text/plain": [
       "tensor([[0., 1., 0., 1., 0., 1., 0., 1.],\n",
       "        [1., 0., 1., 0., 1., 0., 1., 0.],\n",
       "        [0., 1., 0., 1., 0., 1., 0., 1.],\n",
       "        [1., 0., 1., 0., 1., 0., 1., 0.],\n",
       "        [0., 1., 0., 1., 0., 1., 0., 1.],\n",
       "        [1., 0., 1., 0., 1., 0., 1., 0.],\n",
       "        [0., 1., 0., 1., 0., 1., 0., 1.],\n",
       "        [1., 0., 1., 0., 1., 0., 1., 0.]])"
      ]
     },
     "execution_count": 29,
     "metadata": {},
     "output_type": "execute_result"
    }
   ],
   "source": [
    "z = torch.zeros((8, 8))\n",
    "z[1::2, ::2] = 1  # rows: 2, 4, 6, 8\n",
    "z[::2, 1::2] = 1  # rows: 1， 3， 5， 7\n",
    "z"
   ]
  },
  {
   "cell_type": "markdown",
   "id": "d7d25d51-fe51-45c6-a9b3-fe6d7b808f87",
   "metadata": {},
   "source": [
    "## 20. Consider a (6,7,8) shape array, what is the index (x,y,z) of the 100th element? (★☆☆)"
   ]
  },
  {
   "cell_type": "code",
   "execution_count": 30,
   "id": "af6cb575-4589-4fd9-8bc8-ab10fc158572",
   "metadata": {},
   "outputs": [
    {
     "data": {
      "text/plain": [
       "(tensor(1), tensor(5), tensor(3))"
      ]
     },
     "execution_count": 30,
     "metadata": {},
     "output_type": "execute_result"
    }
   ],
   "source": [
    "torch.unravel_index(torch.tensor(99), (6, 7, 8))"
   ]
  },
  {
   "cell_type": "markdown",
   "id": "fe74a08e-9683-42c0-b898-e2c60c2d9f88",
   "metadata": {},
   "source": [
    "## 21. Create a checkerboard 8x8 matrix using the tile function (★☆☆)"
   ]
  },
  {
   "cell_type": "code",
   "execution_count": 31,
   "id": "2fe8e85c-f742-4fdf-b6a6-762d78ac30e4",
   "metadata": {},
   "outputs": [
    {
     "data": {
      "text/plain": [
       "tensor([[0, 1, 0, 1, 0, 1, 0, 1],\n",
       "        [1, 0, 1, 0, 1, 0, 1, 0],\n",
       "        [0, 1, 0, 1, 0, 1, 0, 1],\n",
       "        [1, 0, 1, 0, 1, 0, 1, 0],\n",
       "        [0, 1, 0, 1, 0, 1, 0, 1],\n",
       "        [1, 0, 1, 0, 1, 0, 1, 0],\n",
       "        [0, 1, 0, 1, 0, 1, 0, 1],\n",
       "        [1, 0, 1, 0, 1, 0, 1, 0]])"
      ]
     },
     "execution_count": 31,
     "metadata": {},
     "output_type": "execute_result"
    }
   ],
   "source": [
    "z = torch.tile( torch.tensor([[0, 1], [1, 0]]), (4,4))\n",
    "z"
   ]
  },
  {
   "cell_type": "markdown",
   "id": "df42c85b-970a-42e0-b0d0-4df9e56f7285",
   "metadata": {},
   "source": [
    "## 22. Normalize a 5x5 random matrix (★☆☆)"
   ]
  },
  {
   "cell_type": "code",
   "execution_count": 32,
   "id": "42a0e6b8-8a51-4543-9a76-34581167a2f5",
   "metadata": {},
   "outputs": [
    {
     "data": {
      "text/plain": [
       "tensor([[ 0.9085,  0.2110, -0.4609, -0.5940,  1.3321],\n",
       "        [-0.0455, -0.8614,  0.5499, -1.8999,  0.1982],\n",
       "        [ 0.5237, -0.1254, -0.2810, -0.2465, -1.3676],\n",
       "        [ 1.5506,  0.4986, -1.3437,  0.0122,  1.2983],\n",
       "        [ 0.5542,  0.4247, -0.4020, -2.0755,  1.6413]])"
      ]
     },
     "execution_count": 32,
     "metadata": {},
     "output_type": "execute_result"
    }
   ],
   "source": [
    "z = torch.rand((5,5))\n",
    "z = (z - torch.mean (z)) / (torch.std (z))\n",
    "z"
   ]
  },
  {
   "cell_type": "markdown",
   "id": "e6047775-a654-4fcc-8e9a-c8fff0bfcca7",
   "metadata": {},
   "source": [
    "## 23. 🚫Create a custom dtype that describes a color as four unsigned bytes (RGBA) (★☆☆)\n",
    "\n",
    "We cannot do this in PyTorch."
   ]
  },
  {
   "cell_type": "markdown",
   "id": "4e37c6f8-33b9-4f67-9edd-cc9472ee43fe",
   "metadata": {},
   "source": [
    "## 24. Multiply a 5x3 matrix by a 3x2 matrix (real matrix product) (★☆☆)"
   ]
  },
  {
   "cell_type": "code",
   "execution_count": 33,
   "id": "0059f4be-5e96-449e-a7ca-4308a0f34811",
   "metadata": {},
   "outputs": [
    {
     "data": {
      "text/plain": [
       "tensor([[3., 3.],\n",
       "        [3., 3.],\n",
       "        [3., 3.],\n",
       "        [3., 3.],\n",
       "        [3., 3.]])"
      ]
     },
     "execution_count": 33,
     "metadata": {},
     "output_type": "execute_result"
    }
   ],
   "source": [
    "z = torch.matmul(torch.ones((5, 3)), torch.ones((3, 2)))\n",
    "z"
   ]
  },
  {
   "cell_type": "markdown",
   "id": "ba66fb59-0c88-46aa-89d8-f08e3cc1184e",
   "metadata": {},
   "source": [
    "## 25. Given a 1D array, negate all elements which are between 3 and 8, in place. (★☆☆)"
   ]
  },
  {
   "cell_type": "code",
   "execution_count": 34,
   "id": "92af090e-cb70-48f5-ac10-276c4aeedb7b",
   "metadata": {},
   "outputs": [
    {
     "data": {
      "text/plain": [
       "tensor([ 0,  1,  2,  3, -4, -5, -6, -7,  8,  9, 10])"
      ]
     },
     "execution_count": 34,
     "metadata": {},
     "output_type": "execute_result"
    }
   ],
   "source": [
    "z = torch.arange(11)\n",
    "z[(3 < z) & (z < 8)] *= -1\n",
    "z"
   ]
  },
  {
   "cell_type": "markdown",
   "id": "8aaf1acd-f230-45cf-9618-f7a25e114a83",
   "metadata": {},
   "source": [
    "## 26. 🚫What is the output of the following script? (★☆☆)\n",
    "```python\n",
    "# Author: Jake VanderPlas\n",
    "\n",
    "print(sum(range(5),-1))\n",
    "from numpy import *\n",
    "print(sum(range(5),-1))\n",
    "```\n",
    "\n",
    "We cannot do this in PyTorch."
   ]
  },
  {
   "cell_type": "markdown",
   "id": "10fd6e90-b47a-402d-ba81-986610606db3",
   "metadata": {},
   "source": [
    "## 27. Consider an integer vector z, which of these expressions are legal? (★☆☆)\n",
    "```python\n",
    "z**z\n",
    "2 << z >> 2\n",
    "z <- z\n",
    "1j*z\n",
    "z/1/1\n",
    "z<z>z\n",
    "\n",
    "```"
   ]
  },
  {
   "cell_type": "code",
   "execution_count": 35,
   "id": "7f9330ec-1325-4090-9f3a-29e457ba0e7c",
   "metadata": {},
   "outputs": [
    {
     "data": {
      "text/plain": [
       "tensor([0, 1, 2, 3, 4, 5, 6, 7, 8, 9])"
      ]
     },
     "execution_count": 35,
     "metadata": {},
     "output_type": "execute_result"
    }
   ],
   "source": [
    "z = torch.arange(10)\n",
    "z"
   ]
  },
  {
   "cell_type": "code",
   "execution_count": 36,
   "id": "02cee5a3-438b-4c20-802e-88f93e3ed54d",
   "metadata": {},
   "outputs": [
    {
     "data": {
      "text/plain": [
       "tensor([        1,         1,         4,        27,       256,      3125,\n",
       "            46656,    823543,  16777216, 387420489])"
      ]
     },
     "execution_count": 36,
     "metadata": {},
     "output_type": "execute_result"
    }
   ],
   "source": [
    "# 1\n",
    "z ** z"
   ]
  },
  {
   "cell_type": "code",
   "execution_count": 37,
   "id": "2f8916d8-bf41-42dd-ba8c-eaa5c3ead9de",
   "metadata": {},
   "outputs": [
    {
     "name": "stdout",
     "output_type": "stream",
     "text": [
      "tensor([  0,   1,   2,   4,   8,  16,  32,  64, 128, 256])\n",
      "tensor([  0,   1,   2,   4,   8,  16,  32,  64, 128, 256])\n"
     ]
    }
   ],
   "source": [
    "# 2\n",
    "print(2 << z >> 2)\n",
    "print((2 << z) >> 2)"
   ]
  },
  {
   "cell_type": "code",
   "execution_count": 38,
   "id": "dd339608-bd7a-46d0-a3c0-e9d31f53b6fb",
   "metadata": {},
   "outputs": [
    {
     "name": "stdout",
     "output_type": "stream",
     "text": [
      "tensor([False, False, False, False, False, False, False, False, False, False])\n",
      "tensor([False, False, False, False, False, False, False, False, False, False])\n"
     ]
    }
   ],
   "source": [
    "# 3\n",
    "print(z <- z)\n",
    "print(z < (-z))"
   ]
  },
  {
   "cell_type": "code",
   "execution_count": 39,
   "id": "20baa160-1597-43c8-8b72-5f7b889010bf",
   "metadata": {},
   "outputs": [
    {
     "name": "stdout",
     "output_type": "stream",
     "text": [
      "  0           RESUME                   0\n",
      "\n",
      "  1           LOAD_NAME                0 (z)\n",
      "              LOAD_NAME                0 (z)\n",
      "              UNARY_NEGATIVE\n",
      "              COMPARE_OP               2 (<)\n",
      "              RETURN_VALUE\n"
     ]
    }
   ],
   "source": [
    "# 3\n",
    "import dis\n",
    "\n",
    "dis.dis('z <- z')"
   ]
  },
  {
   "cell_type": "code",
   "execution_count": 40,
   "id": "42575022-7d87-494b-89c6-451636b12a3b",
   "metadata": {},
   "outputs": [
    {
     "data": {
      "text/plain": [
       "tensor([0.+0.j, 0.+1.j, 0.+2.j, 0.+3.j, 0.+4.j, 0.+5.j, 0.+6.j, 0.+7.j, 0.+8.j, 0.+9.j])"
      ]
     },
     "execution_count": 40,
     "metadata": {},
     "output_type": "execute_result"
    }
   ],
   "source": [
    "# 4\n",
    "1j*z"
   ]
  },
  {
   "cell_type": "code",
   "execution_count": 41,
   "id": "531862b7-9b4a-4933-a74d-2cd01293bb53",
   "metadata": {},
   "outputs": [
    {
     "name": "stdout",
     "output_type": "stream",
     "text": [
      "tensor([0., 1., 2., 3., 4., 5., 6., 7., 8., 9.])\n",
      "tensor([0., 1., 2., 3., 4., 5., 6., 7., 8., 9.])\n"
     ]
    }
   ],
   "source": [
    "# 5\n",
    "print(z/1/1)\n",
    "print((z/1)/1)"
   ]
  },
  {
   "cell_type": "code",
   "execution_count": 42,
   "id": "fdb1c793-5d05-44f7-bedb-a0299e1f1533",
   "metadata": {},
   "outputs": [
    {
     "name": "stdout",
     "output_type": "stream",
     "text": [
      "Boolean value of Tensor with more than one value is ambiguous\n"
     ]
    }
   ],
   "source": [
    "# 6\n",
    "try:\n",
    "    print(z<z>z)\n",
    "except Exception as e:\n",
    "    print(e)"
   ]
  },
  {
   "cell_type": "markdown",
   "id": "2b88e10b-c61d-4999-a04b-339c1f1ca3d8",
   "metadata": {},
   "source": [
    "## 28. What are the result of the following expressions? (★☆☆)\n",
    "```python\n",
    "torch.tensor(0) / torch.tensor(0)\n",
    "torch.tensor(0) // torch.tensor(0)\n",
    "torch.tensor([torch.nan]).to(torch.int).to(torch.float)\n",
    "```"
   ]
  },
  {
   "cell_type": "code",
   "execution_count": 43,
   "id": "03cd1b4c-db9e-48ac-9cfd-8bf9c023398f",
   "metadata": {},
   "outputs": [
    {
     "data": {
      "text/plain": [
       "tensor(nan)"
      ]
     },
     "execution_count": 43,
     "metadata": {},
     "output_type": "execute_result"
    }
   ],
   "source": [
    "torch.tensor(0) / torch.tensor(0)"
   ]
  },
  {
   "cell_type": "code",
   "execution_count": 44,
   "id": "fac6733f-b69d-44ea-b37f-c47a4a8915c0",
   "metadata": {},
   "outputs": [
    {
     "name": "stdout",
     "output_type": "stream",
     "text": [
      "ZeroDivisionError\n"
     ]
    }
   ],
   "source": [
    "try:\n",
    "    torch.tensor(0) // torch.tensor(0)\n",
    "except Exception as e:\n",
    "    print(e)"
   ]
  },
  {
   "cell_type": "code",
   "execution_count": 45,
   "id": "94a5fde7-e42c-4cc9-ac3a-1d0889ee6432",
   "metadata": {},
   "outputs": [
    {
     "data": {
      "text/plain": [
       "tensor([-2.1475e+09])"
      ]
     },
     "execution_count": 45,
     "metadata": {},
     "output_type": "execute_result"
    }
   ],
   "source": [
    "torch.tensor([torch.nan]).to(torch.int).to(torch.float)"
   ]
  },
  {
   "cell_type": "markdown",
   "id": "c433b1e1-5e33-45bf-96c6-be66115dfc27",
   "metadata": {},
   "source": [
    "## 29. How to round away from zero a float array ? (★☆☆)"
   ]
  },
  {
   "cell_type": "code",
   "execution_count": 46,
   "id": "f5add556-a95e-4c71-813d-4c7ff7e28194",
   "metadata": {},
   "outputs": [
    {
     "data": {
      "text/plain": [
       "tensor([-0.4848,  1.7904,  0.8012,  1.4280,  1.4842, -0.8127,  1.5392,  0.2753,\n",
       "        -0.1902,  0.3936])"
      ]
     },
     "execution_count": 46,
     "metadata": {},
     "output_type": "execute_result"
    }
   ],
   "source": [
    "z = torch.randn((10))\n",
    "z"
   ]
  },
  {
   "cell_type": "code",
   "execution_count": 47,
   "id": "7a1fbff5-f074-4251-997e-dbce40e8bea7",
   "metadata": {},
   "outputs": [
    {
     "data": {
      "text/plain": [
       "tensor([-1.,  2.,  1.,  2.,  2., -1.,  2.,  1., -1.,  1.])"
      ]
     },
     "execution_count": 47,
     "metadata": {},
     "output_type": "execute_result"
    }
   ],
   "source": [
    "torch.copysign(torch.ceil(torch.abs(z)), z)"
   ]
  },
  {
   "cell_type": "code",
   "execution_count": 48,
   "id": "c78e6a32-1fbd-47b4-8eeb-d83d5323ec91",
   "metadata": {},
   "outputs": [
    {
     "data": {
      "text/plain": [
       "tensor([-1.,  2.,  1.,  2.,  2., -1.,  2.,  1., -1.,  1.])"
      ]
     },
     "execution_count": 48,
     "metadata": {},
     "output_type": "execute_result"
    }
   ],
   "source": [
    "torch.where(z>0, torch.ceil(z), torch.floor(z))"
   ]
  },
  {
   "cell_type": "markdown",
   "id": "1cfd6cda-5f16-4818-9b16-408fa68b0547",
   "metadata": {},
   "source": [
    "## 30. 🆘How to find common values between two arrays? (★☆☆)"
   ]
  },
  {
   "cell_type": "code",
   "execution_count": 72,
   "id": "e403b866-c09a-4f94-a7a3-2a2718143987",
   "metadata": {},
   "outputs": [
    {
     "name": "stdout",
     "output_type": "stream",
     "text": [
      "z1=tensor([1, 3, 9, 0, 3, 5, 0, 2, 1, 1])\n",
      "z2=tensor([8, 5, 1, 1, 2, 7, 3, 9, 5, 2])\n"
     ]
    }
   ],
   "source": [
    "z1 = torch.randint(0, 10, (10, ))\n",
    "z2 = torch.randint(0, 10, (10, ))\n",
    "print(f\"{z1=}\\n{z2=}\")"
   ]
  },
  {
   "cell_type": "code",
   "execution_count": 73,
   "id": "2ed66eff-2d41-4dd3-938f-c347eed2f532",
   "metadata": {},
   "outputs": [
    {
     "data": {
      "text/plain": [
       "{1, 2, 3, 5, 9}"
      ]
     },
     "execution_count": 73,
     "metadata": {},
     "output_type": "execute_result"
    }
   ],
   "source": [
    "set(z1.tolist()) & set(z2.tolist())"
   ]
  },
  {
   "cell_type": "markdown",
   "id": "288dcd8f-0d50-4e2a-bf05-ec13140a8787",
   "metadata": {},
   "source": [
    "## 31. How to ignore all torch warnings (not recommended)? (★☆☆)"
   ]
  },
  {
   "cell_type": "code",
   "execution_count": 99,
   "id": "dd3cf843-2654-4398-b751-d37f4b886c05",
   "metadata": {},
   "outputs": [
    {
     "name": "stderr",
     "output_type": "stream",
     "text": [
      "/tmp/ipykernel_74417/675420015.py:1: UserWarning: Anomaly Detection has been enabled. This mode will increase the runtime and should only be enabled for debugging.\n",
      "  torch.autograd.detect_anomaly()\n"
     ]
    },
    {
     "data": {
      "text/plain": [
       "<torch.autograd.anomaly_mode.detect_anomaly at 0x7f0a7a016210>"
      ]
     },
     "execution_count": 99,
     "metadata": {},
     "output_type": "execute_result"
    }
   ],
   "source": [
    "torch.autograd.detect_anomaly()"
   ]
  },
  {
   "cell_type": "code",
   "execution_count": 100,
   "id": "c6efde2d-50d7-49cc-86ec-fe4adcbb238f",
   "metadata": {},
   "outputs": [],
   "source": [
    "import warnings\n",
    "class IgnoreWarnings:\n",
    "    def __enter__(self):\n",
    "        warnings.filterwarnings(\"ignore\")\n",
    "\n",
    "    def __exit__(self, exc_type, exc_val, exc_tb):\n",
    "        warnings.resetwarnings()\n",
    "\n",
    "with IgnoreWarnings():\n",
    "    torch.autograd.detect_anomaly()"
   ]
  },
  {
   "cell_type": "code",
   "execution_count": 101,
   "id": "b5de82ce-7ef5-413e-acda-dd4ff558e17e",
   "metadata": {},
   "outputs": [
    {
     "name": "stderr",
     "output_type": "stream",
     "text": [
      "/tmp/ipykernel_74417/675420015.py:1: UserWarning: Anomaly Detection has been enabled. This mode will increase the runtime and should only be enabled for debugging.\n",
      "  torch.autograd.detect_anomaly()\n"
     ]
    },
    {
     "data": {
      "text/plain": [
       "<torch.autograd.anomaly_mode.detect_anomaly at 0x7f0a79fc0c30>"
      ]
     },
     "execution_count": 101,
     "metadata": {},
     "output_type": "execute_result"
    }
   ],
   "source": [
    "torch.autograd.detect_anomaly()"
   ]
  },
  {
   "cell_type": "markdown",
   "id": "1a716cdb-f3b7-433a-a087-e241c8c64e24",
   "metadata": {},
   "source": [
    "## 32. 🔧How to get the square root of a complex value in torch (★☆☆)\n"
   ]
  },
  {
   "cell_type": "code",
   "execution_count": 110,
   "id": "a45e781b-a331-4cb6-8af6-e52dff1bda96",
   "metadata": {},
   "outputs": [
    {
     "data": {
      "text/plain": [
       "tensor(-1.+0.j)"
      ]
     },
     "execution_count": 110,
     "metadata": {},
     "output_type": "execute_result"
    }
   ],
   "source": [
    "real = torch.tensor(-1, dtype=torch.float32)\n",
    "imag = torch.tensor(0, dtype=torch.float32)\n",
    "x = torch.complex(real, imag)\n",
    "x"
   ]
  },
  {
   "cell_type": "code",
   "execution_count": 111,
   "id": "d96468bf-e775-42df-997b-e15e3ec7918d",
   "metadata": {},
   "outputs": [
    {
     "data": {
      "text/plain": [
       "tensor(0.+1.j)"
      ]
     },
     "execution_count": 111,
     "metadata": {},
     "output_type": "execute_result"
    }
   ],
   "source": [
    "torch.sqrt(x)"
   ]
  },
  {
   "cell_type": "markdown",
   "id": "ef90e8a4-44c7-4152-9bb8-06cccb4ec55f",
   "metadata": {},
   "source": [
    "## 33. 🚫How to get the dates of yesterday, today and tomorrow? (★☆☆)"
   ]
  },
  {
   "cell_type": "markdown",
   "id": "b3549111-adcd-43b0-964f-709c7ecfdede",
   "metadata": {},
   "source": [
    "## 34. 🚫How to get all the dates corresponding to the month of July 2016? (★★☆)"
   ]
  },
  {
   "cell_type": "markdown",
   "id": "2afa8b7c-f0ea-41b6-a67b-85bf097ac972",
   "metadata": {},
   "source": [
    "## 35. How to compute ((A+B)*(-A/2)) in place (without copy)? (★★☆)"
   ]
  },
  {
   "cell_type": "code",
   "execution_count": 145,
   "id": "af1f380a-c8df-4628-8d0e-77eb513434e3",
   "metadata": {},
   "outputs": [
    {
     "data": {
      "text/plain": [
       "(tensor([1., 1., 1.]), tensor([2., 2., 2.]))"
      ]
     },
     "execution_count": 145,
     "metadata": {},
     "output_type": "execute_result"
    }
   ],
   "source": [
    "A = torch.ones(3) * 1\n",
    "B = torch.ones(3) * 2\n",
    "A, B"
   ]
  },
  {
   "cell_type": "code",
   "execution_count": 146,
   "id": "2c0ad0c6-58a5-4752-b0ce-0c0a2998e501",
   "metadata": {},
   "outputs": [
    {
     "data": {
      "text/plain": [
       "tensor([3., 3., 3.])"
      ]
     },
     "execution_count": 146,
     "metadata": {},
     "output_type": "execute_result"
    }
   ],
   "source": [
    "torch.add(A, B, out=B)\n",
    "B"
   ]
  },
  {
   "cell_type": "code",
   "execution_count": 147,
   "id": "a77e57cd-7392-492d-8e78-bc27363d0ff9",
   "metadata": {},
   "outputs": [
    {
     "data": {
      "text/plain": [
       "tensor([-0.5000, -0.5000, -0.5000])"
      ]
     },
     "execution_count": 147,
     "metadata": {},
     "output_type": "execute_result"
    }
   ],
   "source": [
    "torch.divide(A, 2, out=A)\n",
    "torch.neg(A, out=A)\n",
    "A"
   ]
  },
  {
   "cell_type": "code",
   "execution_count": 148,
   "id": "657fdb91-a72b-45b3-b08b-1e88abe40e60",
   "metadata": {},
   "outputs": [
    {
     "data": {
      "text/plain": [
       "tensor([-1.5000, -1.5000, -1.5000])"
      ]
     },
     "execution_count": 148,
     "metadata": {},
     "output_type": "execute_result"
    }
   ],
   "source": [
    "torch.multiply(B, A, out=A)"
   ]
  },
  {
   "cell_type": "markdown",
   "id": "164c5497-d608-4b5f-951e-3585377339c3",
   "metadata": {},
   "source": [
    "## 36. Extract the integer part of a random array of positive numbers using 4 different methods (★★☆)"
   ]
  },
  {
   "cell_type": "code",
   "execution_count": 153,
   "id": "101a9e28-d5b8-4b7e-ba8d-a20bcc3d14d3",
   "metadata": {},
   "outputs": [
    {
     "data": {
      "text/plain": [
       "tensor([5.7646, 2.4064, 8.9948, 4.1502, 3.3484, 6.1644, 4.5045, 9.4773, 7.9727,\n",
       "        1.9132])"
      ]
     },
     "execution_count": 153,
     "metadata": {},
     "output_type": "execute_result"
    }
   ],
   "source": [
    "z = 10 * torch.rand(10)\n",
    "z"
   ]
  },
  {
   "cell_type": "code",
   "execution_count": 155,
   "id": "7ee662c8-d058-44d6-b217-effaa2a01d97",
   "metadata": {},
   "outputs": [
    {
     "data": {
      "text/plain": [
       "tensor([5., 2., 8., 4., 3., 6., 4., 9., 7., 1.])"
      ]
     },
     "execution_count": 155,
     "metadata": {},
     "output_type": "execute_result"
    }
   ],
   "source": [
    "# solution1\n",
    "z - z % 1"
   ]
  },
  {
   "cell_type": "code",
   "execution_count": 156,
   "id": "b157a891-fe0d-40d6-b8c3-0bff2359a106",
   "metadata": {},
   "outputs": [
    {
     "data": {
      "text/plain": [
       "tensor([5., 2., 8., 4., 3., 6., 4., 9., 7., 1.])"
      ]
     },
     "execution_count": 156,
     "metadata": {},
     "output_type": "execute_result"
    }
   ],
   "source": [
    "# solution2\n",
    "z // 1"
   ]
  },
  {
   "cell_type": "code",
   "execution_count": 158,
   "id": "62f3ac8c-2c41-4071-b52f-f4db5626f961",
   "metadata": {},
   "outputs": [
    {
     "data": {
      "text/plain": [
       "tensor([5, 2, 8, 4, 3, 6, 4, 9, 7, 1], dtype=torch.int32)"
      ]
     },
     "execution_count": 158,
     "metadata": {},
     "output_type": "execute_result"
    }
   ],
   "source": [
    "# solution3\n",
    "z.int()"
   ]
  },
  {
   "cell_type": "code",
   "execution_count": 159,
   "id": "dcc167f6-57ef-4692-bf16-06db667011f9",
   "metadata": {},
   "outputs": [
    {
     "data": {
      "text/plain": [
       "tensor([5., 2., 8., 4., 3., 6., 4., 9., 7., 1.])"
      ]
     },
     "execution_count": 159,
     "metadata": {},
     "output_type": "execute_result"
    }
   ],
   "source": [
    "# solution4\n",
    "torch.trunc(z)"
   ]
  },
  {
   "cell_type": "markdown",
   "id": "d30a2f45-df34-4b30-a426-25821045ddf0",
   "metadata": {},
   "source": [
    "## 37. Create a 5x5 matrix with row values ranging from 0 to 4 (★★☆)"
   ]
  },
  {
   "cell_type": "code",
   "execution_count": 161,
   "id": "2696a5e0-d252-4d19-a535-83c09efba001",
   "metadata": {},
   "outputs": [
    {
     "data": {
      "text/plain": [
       "tensor([[0., 1., 2., 3., 4.],\n",
       "        [0., 1., 2., 3., 4.],\n",
       "        [0., 1., 2., 3., 4.],\n",
       "        [0., 1., 2., 3., 4.],\n",
       "        [0., 1., 2., 3., 4.]])"
      ]
     },
     "execution_count": 161,
     "metadata": {},
     "output_type": "execute_result"
    }
   ],
   "source": [
    "# solution1\n",
    "torch.zeros(5, 5) + torch.arange(5)"
   ]
  },
  {
   "cell_type": "code",
   "execution_count": 173,
   "id": "d18f3950-df0d-4441-9f45-02b55a1d30fd",
   "metadata": {},
   "outputs": [
    {
     "data": {
      "text/plain": [
       "tensor([[0, 1, 2, 3, 4],\n",
       "        [0, 1, 2, 3, 4],\n",
       "        [0, 1, 2, 3, 4],\n",
       "        [0, 1, 2, 3, 4],\n",
       "        [0, 1, 2, 3, 4]])"
      ]
     },
     "execution_count": 173,
     "metadata": {},
     "output_type": "execute_result"
    }
   ],
   "source": [
    "# solution2\n",
    "torch.tile(torch.arange(5), dims=(5, 1))"
   ]
  },
  {
   "cell_type": "markdown",
   "id": "b9960d59-947b-4edb-8cec-d5358c2a723c",
   "metadata": {},
   "source": [
    "## 38. Consider a generator function that generates 10 integers and use it to build an array (★☆☆)\n",
    "\n",
    "https://stackoverflow.com/questions/55307368/creating-a-torch-tensor-from-a-generator"
   ]
  },
  {
   "cell_type": "code",
   "execution_count": 175,
   "id": "74ff03c6-931f-4e43-9710-633609d13639",
   "metadata": {},
   "outputs": [
    {
     "data": {
      "text/plain": [
       "tensor([0., 1., 2., 3., 4., 5., 6., 7., 8., 9.], dtype=torch.float64)"
      ]
     },
     "execution_count": 175,
     "metadata": {},
     "output_type": "execute_result"
    }
   ],
   "source": [
    "import numpy as np\n",
    "\n",
    "def generate():\n",
    "    for x in range(10):\n",
    "        yield x\n",
    "z = torch.from_numpy(np.fromiter(generate(),dtype=float,count=-1))\n",
    "z"
   ]
  },
  {
   "cell_type": "markdown",
   "id": "e25353c1-1bcf-40be-b1b2-900cec327598",
   "metadata": {},
   "source": [
    "## 39. Create a vector of size 10 with values ranging from 0 to 1, both excluded (★★☆)"
   ]
  },
  {
   "cell_type": "code",
   "execution_count": 187,
   "id": "68a89211-e86d-42e7-994a-af6412b38b52",
   "metadata": {},
   "outputs": [
    {
     "data": {
      "text/plain": [
       "tensor([0.0909, 0.1818, 0.2727, 0.3636, 0.4545, 0.5455, 0.6364, 0.7273, 0.8182,\n",
       "        0.9091])"
      ]
     },
     "execution_count": 187,
     "metadata": {},
     "output_type": "execute_result"
    }
   ],
   "source": [
    "torch.linspace(start=0, end=1, steps=12)[1:-1]"
   ]
  },
  {
   "cell_type": "markdown",
   "id": "8d1292cc-1bd1-4e71-a890-41dcc2b5ec99",
   "metadata": {},
   "source": [
    "## 40. Create a random vector of size 10 and sort it (★★☆)"
   ]
  },
  {
   "cell_type": "code",
   "execution_count": 189,
   "id": "4c966d6c-d525-4469-af37-ebac9b118450",
   "metadata": {},
   "outputs": [
    {
     "data": {
      "text/plain": [
       "tensor([0.0476, 0.8197, 0.2549, 0.1986, 0.8609, 0.6635, 0.9528, 0.5135, 0.2743,\n",
       "        0.3946])"
      ]
     },
     "execution_count": 189,
     "metadata": {},
     "output_type": "execute_result"
    }
   ],
   "source": [
    "z = torch.rand(10)\n",
    "z"
   ]
  },
  {
   "cell_type": "code",
   "execution_count": 194,
   "id": "33b37e66-c3d3-4b8f-9123-a15980a86534",
   "metadata": {},
   "outputs": [
    {
     "data": {
      "text/plain": [
       "torch.return_types.sort(\n",
       "values=tensor([0.0476, 0.1986, 0.2549, 0.2743, 0.3946, 0.5135, 0.6635, 0.8197, 0.8609,\n",
       "        0.9528]),\n",
       "indices=tensor([0, 3, 2, 8, 9, 7, 5, 1, 4, 6]))"
      ]
     },
     "execution_count": 194,
     "metadata": {},
     "output_type": "execute_result"
    }
   ],
   "source": [
    "z = z.sort()\n",
    "z"
   ]
  },
  {
   "cell_type": "markdown",
   "id": "fa683ec6-d11e-4f4f-a147-961a7c7ffb6b",
   "metadata": {},
   "source": [
    "## 🔧41. How to sum a small array faster? (★★☆)\n",
    "\n",
    "\n",
    "1. `np.sum`\n",
    "2. `torch.sum`\n",
    "3. `np.add.reduce`\n",
    "4. `sum` in python\n",
    "5. `for` and `+` in python"
   ]
  },
  {
   "cell_type": "code",
   "execution_count": 20,
   "id": "45eb33eb-9f86-4e55-b4ea-9c18919162cc",
   "metadata": {},
   "outputs": [
    {
     "data": {
      "text/plain": [
       "(tensor([0, 1, 2, 3, 4, 5, 6, 7, 8, 9]),\n",
       " array([0, 1, 2, 3, 4, 5, 6, 7, 8, 9]),\n",
       " [0, 1, 2, 3, 4, 5, 6, 7, 8, 9])"
      ]
     },
     "execution_count": 20,
     "metadata": {},
     "output_type": "execute_result"
    }
   ],
   "source": [
    "import numpy as np\n",
    "\n",
    "z_torch = torch.arange(10)\n",
    "z_numpy = np.arange(10)\n",
    "z_python = [i for i in range(10)]\n",
    "\n",
    "z_torch, z_numpy, z_python"
   ]
  },
  {
   "cell_type": "code",
   "execution_count": 23,
   "id": "3c12bd57-1b9e-4a6c-aee4-aed4ce947ddb",
   "metadata": {},
   "outputs": [
    {
     "name": "stdout",
     "output_type": "stream",
     "text": [
      "1.65 μs ± 13.4 ns per loop (mean ± std. dev. of 7 runs, 1,000,000 loops each)\n"
     ]
    }
   ],
   "source": [
    "# method 1\n",
    "%timeit np.sum(z_numpy)"
   ]
  },
  {
   "cell_type": "code",
   "execution_count": 24,
   "id": "24401734-9329-463c-bc05-6d27273f4661",
   "metadata": {},
   "outputs": [
    {
     "name": "stdout",
     "output_type": "stream",
     "text": [
      "1.28 μs ± 6.9 ns per loop (mean ± std. dev. of 7 runs, 1,000,000 loops each)\n"
     ]
    }
   ],
   "source": [
    "# method 2\n",
    "%timeit torch.sum(z_torch)"
   ]
  },
  {
   "cell_type": "code",
   "execution_count": 26,
   "id": "472b78d3-daaa-4599-9487-fdd9cdcd3ae2",
   "metadata": {},
   "outputs": [
    {
     "name": "stdout",
     "output_type": "stream",
     "text": [
      "831 ns ± 2.35 ns per loop (mean ± std. dev. of 7 runs, 1,000,000 loops each)\n"
     ]
    }
   ],
   "source": [
    "# method 3\n",
    "%timeit np.add.reduce(z_numpy)"
   ]
  },
  {
   "cell_type": "code",
   "execution_count": 27,
   "id": "19f6465a-826c-48e0-9e4f-1d47704232de",
   "metadata": {},
   "outputs": [
    {
     "name": "stdout",
     "output_type": "stream",
     "text": [
      "64.9 ns ± 0.306 ns per loop (mean ± std. dev. of 7 runs, 10,000,000 loops each)\n"
     ]
    }
   ],
   "source": [
    "# method 4\n",
    "%timeit sum(z_python)"
   ]
  },
  {
   "cell_type": "code",
   "execution_count": 28,
   "id": "898e9bf3-ca96-4fc7-ac1e-8df6c3f83d58",
   "metadata": {},
   "outputs": [
    {
     "name": "stdout",
     "output_type": "stream",
     "text": [
      "8.51 ns ± 0.0571 ns per loop (mean ± std. dev. of 7 runs, 100,000,000 loops each)\n"
     ]
    }
   ],
   "source": [
    "# method 5\n",
    "def sum_with_for_loop():\n",
    "    n = 0\n",
    "    for i in z_python:\n",
    "        n += i\n",
    "    return n\n",
    "\n",
    "%timeit sum_with_for_loop"
   ]
  },
  {
   "cell_type": "markdown",
   "id": "2762e448-7d9a-461e-9eca-0de42829547c",
   "metadata": {},
   "source": [
    "## 42. Consider two random array/tensor A and B, check if they are equal (★★☆)"
   ]
  },
  {
   "cell_type": "code",
   "execution_count": 50,
   "id": "63321709-1c39-4da7-b89f-0aae605a7aaf",
   "metadata": {},
   "outputs": [
    {
     "data": {
      "text/plain": [
       "(tensor([0, 1, 0, 0, 1]), tensor([0, 1, 0, 0, 1]))"
      ]
     },
     "execution_count": 50,
     "metadata": {},
     "output_type": "execute_result"
    }
   ],
   "source": [
    "t1 = torch.randint(0, 2, (5, ))\n",
    "t2 = torch.randint(0, 2, (5, ))\n",
    "\n",
    "t1, t2"
   ]
  },
  {
   "cell_type": "code",
   "execution_count": 55,
   "id": "10364b14-885a-48bd-bc81-6aebc9b7f105",
   "metadata": {},
   "outputs": [
    {
     "data": {
      "text/plain": [
       "True"
      ]
     },
     "execution_count": 55,
     "metadata": {},
     "output_type": "execute_result"
    }
   ],
   "source": [
    "# The behaviour of this function is analogous to `numpy.allclose`\n",
    "torch.allclose(t1, t2)"
   ]
  },
  {
   "cell_type": "code",
   "execution_count": 56,
   "id": "f2d277f4-ad6e-4e43-b3d6-3e421f01212f",
   "metadata": {},
   "outputs": [
    {
     "data": {
      "text/plain": [
       "tensor([True, True, True, True, True])"
      ]
     },
     "execution_count": 56,
     "metadata": {},
     "output_type": "execute_result"
    }
   ],
   "source": [
    "# Computes element-wise equality\n",
    "torch.eq(t1, t2)"
   ]
  },
  {
   "cell_type": "markdown",
   "id": "4d4f8bd5-5e96-4cce-9b1e-bae6fa70b926",
   "metadata": {},
   "source": [
    "## 43.  🚫Make an array/tensor immutable (read-only) (★★☆)\n",
    "\n",
    "https://github.com/pytorch/pytorch/issues/44027"
   ]
  },
  {
   "cell_type": "markdown",
   "id": "0b8689dd-0fc5-4538-b1cb-33fc261a545d",
   "metadata": {},
   "source": [
    "## 44. Consider a random 10x2 matrix representing cartesian coordinates, convert them to polar coordinates (★★☆)"
   ]
  },
  {
   "cell_type": "code",
   "execution_count": 62,
   "id": "35f2e653-8507-47a3-a880-60bc864cfc7f",
   "metadata": {},
   "outputs": [
    {
     "data": {
      "text/plain": [
       "(tensor([1.1658, 0.8590, 0.7153, 0.9412, 1.0065, 0.6229, 0.0637, 1.3276, 0.4689,\n",
       "         1.0837]),\n",
       " tensor([0.6077, 0.7141, 0.0409, 0.2322, 0.4560, 0.8626, 0.5504, 0.7723, 0.8890,\n",
       "         1.0532]))"
      ]
     },
     "execution_count": 62,
     "metadata": {},
     "output_type": "execute_result"
    }
   ],
   "source": [
    "z = torch.rand((10, 2))\n",
    "x, y = z[:, 0], z[:, 1]\n",
    "r = torch.sqrt(x**2 + y ** 2)\n",
    "t = torch.arctan2(y, x)\n",
    "\n",
    "r, t"
   ]
  },
  {
   "cell_type": "markdown",
   "id": "87f13036-ca5c-4ea6-a325-18826666e61b",
   "metadata": {},
   "source": [
    "## 45. Create random vector of size 10 and replace the maximum value by 0 (★★☆)"
   ]
  },
  {
   "cell_type": "code",
   "execution_count": 66,
   "id": "e3a625cc-de4a-4914-bc8a-564d518b4dcc",
   "metadata": {},
   "outputs": [
    {
     "name": "stdout",
     "output_type": "stream",
     "text": [
      "Before: tensor([0.6948, 0.1091, 0.7240, 0.5685, 0.7686, 0.7866, 0.0311, 0.9583, 0.5142,\n",
      "        0.1780])\n",
      "After: tensor([0.6948, 0.1091, 0.7240, 0.5685, 0.7686, 0.7866, 0.0311, 0.0000, 0.5142,\n",
      "        0.1780])\n"
     ]
    }
   ],
   "source": [
    "z = torch.rand(10)\n",
    "print(f\"Before: {z}\")\n",
    "\n",
    "z[z.argmax()] = 0\n",
    "print(f\"After: {z}\")"
   ]
  },
  {
   "cell_type": "code",
   "execution_count": 67,
   "id": "6348f3d6-2c2b-43f6-a52b-5e7b3161f37b",
   "metadata": {},
   "outputs": [
    {
     "name": "stdout",
     "output_type": "stream",
     "text": [
      "Before: tensor([0.3117, 0.1246, 0.6908, 0.5892, 0.9242, 0.7525, 0.6414, 0.5580, 0.7929,\n",
      "        0.9808])\n",
      "After: tensor([0.3117, 0.1246, 0.6908, 0.5892, 0.9242, 0.7525, 0.6414, 0.5580, 0.7929,\n",
      "        0.0000])\n"
     ]
    }
   ],
   "source": [
    "z = torch.rand(10)\n",
    "print(f\"Before: {z}\")\n",
    "\n",
    "z[z == z.max()] = 0\n",
    "print(f\"After: {z}\")"
   ]
  },
  {
   "cell_type": "markdown",
   "id": "538a6a87-43bd-4e63-822f-b98695f1eabe",
   "metadata": {},
   "source": [
    "## 🚫46. Create a structured array with `x` and `y` coordinates covering the [0,1]x[0,1] area (★★☆)"
   ]
  },
  {
   "cell_type": "markdown",
   "id": "2357a72c-fff1-4c95-b16e-61709450210b",
   "metadata": {},
   "source": [
    "## 47. Given two arrays, X and Y, construct the Cauchy matrix C (Cij =1/(xi - yj)) (★★☆)\n",
    "\n",
    "$$\n",
    "C_{ij} = \\frac{1}{x_i - y_j}\n",
    "$$"
   ]
  },
  {
   "cell_type": "code",
   "execution_count": 69,
   "id": "2106f505-da0a-4b91-9757-df04f4037c12",
   "metadata": {},
   "outputs": [
    {
     "data": {
      "text/plain": [
       "(tensor([0, 1, 2, 3, 4, 5, 6, 7]),\n",
       " tensor([0.5000, 1.5000, 2.5000, 3.5000, 4.5000, 5.5000, 6.5000, 7.5000]))"
      ]
     },
     "execution_count": 69,
     "metadata": {},
     "output_type": "execute_result"
    }
   ],
   "source": [
    "x = torch.arange(8)\n",
    "y = x + 0.5\n",
    "\n",
    "x, y"
   ]
  },
  {
   "cell_type": "code",
   "execution_count": 95,
   "id": "98b58a16-4007-4aa5-add4-afcac73627da",
   "metadata": {},
   "outputs": [
    {
     "data": {
      "text/plain": [
       "tensor([[-2.0000, -0.6667, -0.4000, -0.2857, -0.2222, -0.1818, -0.1538, -0.1333],\n",
       "        [ 2.0000, -2.0000, -0.6667, -0.4000, -0.2857, -0.2222, -0.1818, -0.1538],\n",
       "        [ 0.6667,  2.0000, -2.0000, -0.6667, -0.4000, -0.2857, -0.2222, -0.1818],\n",
       "        [ 0.4000,  0.6667,  2.0000, -2.0000, -0.6667, -0.4000, -0.2857, -0.2222],\n",
       "        [ 0.2857,  0.4000,  0.6667,  2.0000, -2.0000, -0.6667, -0.4000, -0.2857],\n",
       "        [ 0.2222,  0.2857,  0.4000,  0.6667,  2.0000, -2.0000, -0.6667, -0.4000],\n",
       "        [ 0.1818,  0.2222,  0.2857,  0.4000,  0.6667,  2.0000, -2.0000, -0.6667],\n",
       "        [ 0.1538,  0.1818,  0.2222,  0.2857,  0.4000,  0.6667,  2.0000, -2.0000]])"
      ]
     },
     "execution_count": 95,
     "metadata": {},
     "output_type": "execute_result"
    }
   ],
   "source": [
    "# c = 1 / (x.unsqueeze(1) - y.unsqueeze(0))\n",
    "c = 1 / (x.reshape(8, 1) - y.reshape(1, 8))\n",
    "c"
   ]
  },
  {
   "cell_type": "code",
   "execution_count": 98,
   "id": "02847a95-abfd-47fc-a5ee-9eed4886a414",
   "metadata": {},
   "outputs": [
    {
     "data": {
      "text/plain": [
       "np.float32(3638.1638)"
      ]
     },
     "execution_count": 98,
     "metadata": {},
     "output_type": "execute_result"
    }
   ],
   "source": [
    "np.linalg.det(c)"
   ]
  },
  {
   "cell_type": "markdown",
   "id": "150335a2-3eaa-4d8b-91dd-50ad4a0d6c5f",
   "metadata": {},
   "source": [
    "## 48. Print the minimum and maximum representable value for each torch scalar type (★★☆)"
   ]
  },
  {
   "cell_type": "code",
   "execution_count": 111,
   "id": "92e7a9d7-5ae8-4445-83e6-72c0482f603d",
   "metadata": {},
   "outputs": [
    {
     "name": "stdout",
     "output_type": "stream",
     "text": [
      "torch.int8.min: -128\n",
      "torch.int8.max: 127\n",
      "==========================================\n",
      "torch.int16.min: -32768\n",
      "torch.int16.max: 32767\n",
      "==========================================\n",
      "torch.int32.min: -2147483648\n",
      "torch.int32.max: 2147483647\n",
      "==========================================\n",
      "torch.int64.min: -9223372036854775808\n",
      "torch.int64.max: 9223372036854775807\n",
      "==========================================\n",
      "torch.float32.min: -3.4028234663852886e+38\n",
      "torch.float32.max: 3.4028234663852886e+38\n",
      "torch.float32.eps: 1.1920928955078125e-07\n",
      "==========================================\n",
      "torch.float64.min: -1.7976931348623157e+308\n",
      "torch.float64.max: 1.7976931348623157e+308\n",
      "torch.float64.eps: 2.220446049250313e-16\n",
      "==========================================\n"
     ]
    }
   ],
   "source": [
    "for dtype in [torch.int8, torch.int16, torch.int32, torch.int64]:\n",
    "    print(f\"{dtype}.min: {torch.iinfo(dtype).min}\")\n",
    "    print(f\"{dtype}.max: {torch.iinfo(dtype).max}\")\n",
    "    print(\"=\"*42)\n",
    "    \n",
    "for dtype in [torch.float32, torch.float64]:\n",
    "    print(f\"{dtype}.min: {torch.finfo(dtype).min}\")\n",
    "    print(f\"{dtype}.max: {torch.finfo(dtype).max}\")\n",
    "    print(f\"{dtype}.eps: {torch.finfo(dtype).eps}\")\n",
    "    print(\"=\"*42)"
   ]
  },
  {
   "cell_type": "markdown",
   "id": "edfeacbd-1a1e-42e4-8034-bbcad015028c",
   "metadata": {},
   "source": [
    "## 49. How to print all the values(without ellipses: `...`) of an array/tensor? (★★☆)"
   ]
  },
  {
   "cell_type": "code",
   "execution_count": 128,
   "id": "e79bf660-048e-444b-b38a-0f54dd9f9ead",
   "metadata": {},
   "outputs": [
    {
     "name": "stdout",
     "output_type": "stream",
     "text": [
      "tensor([[1., 1., 1.,  ..., 1., 1., 1.],\n",
      "        [1., 1., 1.,  ..., 1., 1., 1.],\n",
      "        [1., 1., 1.,  ..., 1., 1., 1.],\n",
      "        ...,\n",
      "        [1., 1., 1.,  ..., 1., 1., 1.],\n",
      "        [1., 1., 1.,  ..., 1., 1., 1.],\n",
      "        [1., 1., 1.,  ..., 1., 1., 1.]])\n"
     ]
    }
   ],
   "source": [
    "z = torch.ones((40, 40))\n",
    "print(z)"
   ]
  },
  {
   "cell_type": "code",
   "execution_count": 129,
   "id": "b2cd3756-ac97-4c54-b089-d17c96992143",
   "metadata": {
    "collapsed": true,
    "jupyter": {
     "outputs_hidden": true
    },
    "scrolled": true
   },
   "outputs": [
    {
     "name": "stdout",
     "output_type": "stream",
     "text": [
      "tensor([[1., 1., 1., 1., 1., 1., 1., 1., 1., 1., 1., 1., 1., 1., 1., 1., 1., 1.,\n",
      "         1., 1., 1., 1., 1., 1., 1., 1., 1., 1., 1., 1., 1., 1., 1., 1., 1., 1.,\n",
      "         1., 1., 1., 1.],\n",
      "        [1., 1., 1., 1., 1., 1., 1., 1., 1., 1., 1., 1., 1., 1., 1., 1., 1., 1.,\n",
      "         1., 1., 1., 1., 1., 1., 1., 1., 1., 1., 1., 1., 1., 1., 1., 1., 1., 1.,\n",
      "         1., 1., 1., 1.],\n",
      "        [1., 1., 1., 1., 1., 1., 1., 1., 1., 1., 1., 1., 1., 1., 1., 1., 1., 1.,\n",
      "         1., 1., 1., 1., 1., 1., 1., 1., 1., 1., 1., 1., 1., 1., 1., 1., 1., 1.,\n",
      "         1., 1., 1., 1.],\n",
      "        [1., 1., 1., 1., 1., 1., 1., 1., 1., 1., 1., 1., 1., 1., 1., 1., 1., 1.,\n",
      "         1., 1., 1., 1., 1., 1., 1., 1., 1., 1., 1., 1., 1., 1., 1., 1., 1., 1.,\n",
      "         1., 1., 1., 1.],\n",
      "        [1., 1., 1., 1., 1., 1., 1., 1., 1., 1., 1., 1., 1., 1., 1., 1., 1., 1.,\n",
      "         1., 1., 1., 1., 1., 1., 1., 1., 1., 1., 1., 1., 1., 1., 1., 1., 1., 1.,\n",
      "         1., 1., 1., 1.],\n",
      "        [1., 1., 1., 1., 1., 1., 1., 1., 1., 1., 1., 1., 1., 1., 1., 1., 1., 1.,\n",
      "         1., 1., 1., 1., 1., 1., 1., 1., 1., 1., 1., 1., 1., 1., 1., 1., 1., 1.,\n",
      "         1., 1., 1., 1.],\n",
      "        [1., 1., 1., 1., 1., 1., 1., 1., 1., 1., 1., 1., 1., 1., 1., 1., 1., 1.,\n",
      "         1., 1., 1., 1., 1., 1., 1., 1., 1., 1., 1., 1., 1., 1., 1., 1., 1., 1.,\n",
      "         1., 1., 1., 1.],\n",
      "        [1., 1., 1., 1., 1., 1., 1., 1., 1., 1., 1., 1., 1., 1., 1., 1., 1., 1.,\n",
      "         1., 1., 1., 1., 1., 1., 1., 1., 1., 1., 1., 1., 1., 1., 1., 1., 1., 1.,\n",
      "         1., 1., 1., 1.],\n",
      "        [1., 1., 1., 1., 1., 1., 1., 1., 1., 1., 1., 1., 1., 1., 1., 1., 1., 1.,\n",
      "         1., 1., 1., 1., 1., 1., 1., 1., 1., 1., 1., 1., 1., 1., 1., 1., 1., 1.,\n",
      "         1., 1., 1., 1.],\n",
      "        [1., 1., 1., 1., 1., 1., 1., 1., 1., 1., 1., 1., 1., 1., 1., 1., 1., 1.,\n",
      "         1., 1., 1., 1., 1., 1., 1., 1., 1., 1., 1., 1., 1., 1., 1., 1., 1., 1.,\n",
      "         1., 1., 1., 1.],\n",
      "        [1., 1., 1., 1., 1., 1., 1., 1., 1., 1., 1., 1., 1., 1., 1., 1., 1., 1.,\n",
      "         1., 1., 1., 1., 1., 1., 1., 1., 1., 1., 1., 1., 1., 1., 1., 1., 1., 1.,\n",
      "         1., 1., 1., 1.],\n",
      "        [1., 1., 1., 1., 1., 1., 1., 1., 1., 1., 1., 1., 1., 1., 1., 1., 1., 1.,\n",
      "         1., 1., 1., 1., 1., 1., 1., 1., 1., 1., 1., 1., 1., 1., 1., 1., 1., 1.,\n",
      "         1., 1., 1., 1.],\n",
      "        [1., 1., 1., 1., 1., 1., 1., 1., 1., 1., 1., 1., 1., 1., 1., 1., 1., 1.,\n",
      "         1., 1., 1., 1., 1., 1., 1., 1., 1., 1., 1., 1., 1., 1., 1., 1., 1., 1.,\n",
      "         1., 1., 1., 1.],\n",
      "        [1., 1., 1., 1., 1., 1., 1., 1., 1., 1., 1., 1., 1., 1., 1., 1., 1., 1.,\n",
      "         1., 1., 1., 1., 1., 1., 1., 1., 1., 1., 1., 1., 1., 1., 1., 1., 1., 1.,\n",
      "         1., 1., 1., 1.],\n",
      "        [1., 1., 1., 1., 1., 1., 1., 1., 1., 1., 1., 1., 1., 1., 1., 1., 1., 1.,\n",
      "         1., 1., 1., 1., 1., 1., 1., 1., 1., 1., 1., 1., 1., 1., 1., 1., 1., 1.,\n",
      "         1., 1., 1., 1.],\n",
      "        [1., 1., 1., 1., 1., 1., 1., 1., 1., 1., 1., 1., 1., 1., 1., 1., 1., 1.,\n",
      "         1., 1., 1., 1., 1., 1., 1., 1., 1., 1., 1., 1., 1., 1., 1., 1., 1., 1.,\n",
      "         1., 1., 1., 1.],\n",
      "        [1., 1., 1., 1., 1., 1., 1., 1., 1., 1., 1., 1., 1., 1., 1., 1., 1., 1.,\n",
      "         1., 1., 1., 1., 1., 1., 1., 1., 1., 1., 1., 1., 1., 1., 1., 1., 1., 1.,\n",
      "         1., 1., 1., 1.],\n",
      "        [1., 1., 1., 1., 1., 1., 1., 1., 1., 1., 1., 1., 1., 1., 1., 1., 1., 1.,\n",
      "         1., 1., 1., 1., 1., 1., 1., 1., 1., 1., 1., 1., 1., 1., 1., 1., 1., 1.,\n",
      "         1., 1., 1., 1.],\n",
      "        [1., 1., 1., 1., 1., 1., 1., 1., 1., 1., 1., 1., 1., 1., 1., 1., 1., 1.,\n",
      "         1., 1., 1., 1., 1., 1., 1., 1., 1., 1., 1., 1., 1., 1., 1., 1., 1., 1.,\n",
      "         1., 1., 1., 1.],\n",
      "        [1., 1., 1., 1., 1., 1., 1., 1., 1., 1., 1., 1., 1., 1., 1., 1., 1., 1.,\n",
      "         1., 1., 1., 1., 1., 1., 1., 1., 1., 1., 1., 1., 1., 1., 1., 1., 1., 1.,\n",
      "         1., 1., 1., 1.],\n",
      "        [1., 1., 1., 1., 1., 1., 1., 1., 1., 1., 1., 1., 1., 1., 1., 1., 1., 1.,\n",
      "         1., 1., 1., 1., 1., 1., 1., 1., 1., 1., 1., 1., 1., 1., 1., 1., 1., 1.,\n",
      "         1., 1., 1., 1.],\n",
      "        [1., 1., 1., 1., 1., 1., 1., 1., 1., 1., 1., 1., 1., 1., 1., 1., 1., 1.,\n",
      "         1., 1., 1., 1., 1., 1., 1., 1., 1., 1., 1., 1., 1., 1., 1., 1., 1., 1.,\n",
      "         1., 1., 1., 1.],\n",
      "        [1., 1., 1., 1., 1., 1., 1., 1., 1., 1., 1., 1., 1., 1., 1., 1., 1., 1.,\n",
      "         1., 1., 1., 1., 1., 1., 1., 1., 1., 1., 1., 1., 1., 1., 1., 1., 1., 1.,\n",
      "         1., 1., 1., 1.],\n",
      "        [1., 1., 1., 1., 1., 1., 1., 1., 1., 1., 1., 1., 1., 1., 1., 1., 1., 1.,\n",
      "         1., 1., 1., 1., 1., 1., 1., 1., 1., 1., 1., 1., 1., 1., 1., 1., 1., 1.,\n",
      "         1., 1., 1., 1.],\n",
      "        [1., 1., 1., 1., 1., 1., 1., 1., 1., 1., 1., 1., 1., 1., 1., 1., 1., 1.,\n",
      "         1., 1., 1., 1., 1., 1., 1., 1., 1., 1., 1., 1., 1., 1., 1., 1., 1., 1.,\n",
      "         1., 1., 1., 1.],\n",
      "        [1., 1., 1., 1., 1., 1., 1., 1., 1., 1., 1., 1., 1., 1., 1., 1., 1., 1.,\n",
      "         1., 1., 1., 1., 1., 1., 1., 1., 1., 1., 1., 1., 1., 1., 1., 1., 1., 1.,\n",
      "         1., 1., 1., 1.],\n",
      "        [1., 1., 1., 1., 1., 1., 1., 1., 1., 1., 1., 1., 1., 1., 1., 1., 1., 1.,\n",
      "         1., 1., 1., 1., 1., 1., 1., 1., 1., 1., 1., 1., 1., 1., 1., 1., 1., 1.,\n",
      "         1., 1., 1., 1.],\n",
      "        [1., 1., 1., 1., 1., 1., 1., 1., 1., 1., 1., 1., 1., 1., 1., 1., 1., 1.,\n",
      "         1., 1., 1., 1., 1., 1., 1., 1., 1., 1., 1., 1., 1., 1., 1., 1., 1., 1.,\n",
      "         1., 1., 1., 1.],\n",
      "        [1., 1., 1., 1., 1., 1., 1., 1., 1., 1., 1., 1., 1., 1., 1., 1., 1., 1.,\n",
      "         1., 1., 1., 1., 1., 1., 1., 1., 1., 1., 1., 1., 1., 1., 1., 1., 1., 1.,\n",
      "         1., 1., 1., 1.],\n",
      "        [1., 1., 1., 1., 1., 1., 1., 1., 1., 1., 1., 1., 1., 1., 1., 1., 1., 1.,\n",
      "         1., 1., 1., 1., 1., 1., 1., 1., 1., 1., 1., 1., 1., 1., 1., 1., 1., 1.,\n",
      "         1., 1., 1., 1.],\n",
      "        [1., 1., 1., 1., 1., 1., 1., 1., 1., 1., 1., 1., 1., 1., 1., 1., 1., 1.,\n",
      "         1., 1., 1., 1., 1., 1., 1., 1., 1., 1., 1., 1., 1., 1., 1., 1., 1., 1.,\n",
      "         1., 1., 1., 1.],\n",
      "        [1., 1., 1., 1., 1., 1., 1., 1., 1., 1., 1., 1., 1., 1., 1., 1., 1., 1.,\n",
      "         1., 1., 1., 1., 1., 1., 1., 1., 1., 1., 1., 1., 1., 1., 1., 1., 1., 1.,\n",
      "         1., 1., 1., 1.],\n",
      "        [1., 1., 1., 1., 1., 1., 1., 1., 1., 1., 1., 1., 1., 1., 1., 1., 1., 1.,\n",
      "         1., 1., 1., 1., 1., 1., 1., 1., 1., 1., 1., 1., 1., 1., 1., 1., 1., 1.,\n",
      "         1., 1., 1., 1.],\n",
      "        [1., 1., 1., 1., 1., 1., 1., 1., 1., 1., 1., 1., 1., 1., 1., 1., 1., 1.,\n",
      "         1., 1., 1., 1., 1., 1., 1., 1., 1., 1., 1., 1., 1., 1., 1., 1., 1., 1.,\n",
      "         1., 1., 1., 1.],\n",
      "        [1., 1., 1., 1., 1., 1., 1., 1., 1., 1., 1., 1., 1., 1., 1., 1., 1., 1.,\n",
      "         1., 1., 1., 1., 1., 1., 1., 1., 1., 1., 1., 1., 1., 1., 1., 1., 1., 1.,\n",
      "         1., 1., 1., 1.],\n",
      "        [1., 1., 1., 1., 1., 1., 1., 1., 1., 1., 1., 1., 1., 1., 1., 1., 1., 1.,\n",
      "         1., 1., 1., 1., 1., 1., 1., 1., 1., 1., 1., 1., 1., 1., 1., 1., 1., 1.,\n",
      "         1., 1., 1., 1.],\n",
      "        [1., 1., 1., 1., 1., 1., 1., 1., 1., 1., 1., 1., 1., 1., 1., 1., 1., 1.,\n",
      "         1., 1., 1., 1., 1., 1., 1., 1., 1., 1., 1., 1., 1., 1., 1., 1., 1., 1.,\n",
      "         1., 1., 1., 1.],\n",
      "        [1., 1., 1., 1., 1., 1., 1., 1., 1., 1., 1., 1., 1., 1., 1., 1., 1., 1.,\n",
      "         1., 1., 1., 1., 1., 1., 1., 1., 1., 1., 1., 1., 1., 1., 1., 1., 1., 1.,\n",
      "         1., 1., 1., 1.],\n",
      "        [1., 1., 1., 1., 1., 1., 1., 1., 1., 1., 1., 1., 1., 1., 1., 1., 1., 1.,\n",
      "         1., 1., 1., 1., 1., 1., 1., 1., 1., 1., 1., 1., 1., 1., 1., 1., 1., 1.,\n",
      "         1., 1., 1., 1.],\n",
      "        [1., 1., 1., 1., 1., 1., 1., 1., 1., 1., 1., 1., 1., 1., 1., 1., 1., 1.,\n",
      "         1., 1., 1., 1., 1., 1., 1., 1., 1., 1., 1., 1., 1., 1., 1., 1., 1., 1.,\n",
      "         1., 1., 1., 1.]])\n"
     ]
    }
   ],
   "source": [
    "# Limit the number of elements shown\n",
    "torch.set_printoptions(threshold=torch.inf)\n",
    "print(z)"
   ]
  },
  {
   "cell_type": "code",
   "execution_count": 133,
   "id": "53c23d1b-faef-4034-bd15-2a21863fc5e5",
   "metadata": {},
   "outputs": [],
   "source": [
    "# to recover the default print options\n",
    "torch.set_printoptions(threshold=1000, precision=4)"
   ]
  },
  {
   "cell_type": "markdown",
   "id": "286c53f8-2fb5-4420-a271-81eb70547330",
   "metadata": {},
   "source": [
    "## 50. How to find the closest value (to a given scalar) in a vector? (★★☆)"
   ]
  },
  {
   "cell_type": "code",
   "execution_count": 152,
   "id": "1cd2a37d-fd35-4cbd-b53e-0d1105ec9cd7",
   "metadata": {},
   "outputs": [
    {
     "data": {
      "text/plain": [
       "(tensor([ 0,  1,  2,  3,  4,  5,  6,  7,  8,  9, 10, 11, 12, 13, 14, 15, 16, 17,\n",
       "         18, 19, 20, 21, 22, 23, 24, 25, 26, 27, 28, 29, 30, 31, 32, 33, 34, 35,\n",
       "         36, 37, 38, 39, 40, 41, 42, 43, 44, 45, 46, 47, 48, 49, 50, 51, 52, 53,\n",
       "         54, 55, 56, 57, 58, 59, 60, 61, 62, 63, 64, 65, 66, 67, 68, 69, 70, 71,\n",
       "         72, 73, 74, 75, 76, 77, 78, 79, 80, 81, 82, 83, 84, 85, 86, 87, 88, 89,\n",
       "         90, 91, 92, 93, 94, 95, 96, 97, 98, 99]),\n",
       " tensor([29]))"
      ]
     },
     "execution_count": 152,
     "metadata": {},
     "output_type": "execute_result"
    }
   ],
   "source": [
    "z = torch.arange(100)\n",
    "v = torch.randint(0, 100, (1,))\n",
    "\n",
    "z, v"
   ]
  },
  {
   "cell_type": "code",
   "execution_count": 154,
   "id": "9c6500e7-f54d-4af2-b70b-80a47fb1402a",
   "metadata": {},
   "outputs": [
    {
     "data": {
      "text/plain": [
       "(tensor(29), tensor(29))"
      ]
     },
     "execution_count": 154,
     "metadata": {},
     "output_type": "execute_result"
    }
   ],
   "source": [
    "index = (z - v).abs().argmin()\n",
    "\n",
    "index, z[index]"
   ]
  },
  {
   "cell_type": "markdown",
   "id": "4e8b2ba2-c332-48a0-8188-f52a97aeae7e",
   "metadata": {},
   "source": [
    "## 🚫51. Create a structured array representing a position (x,y) and a color (r,g,b) (★★☆)"
   ]
  },
  {
   "cell_type": "markdown",
   "id": "21ba953a-764d-40d6-890c-a15cfa1c08a8",
   "metadata": {},
   "source": [
    "## 52. Consider a random vector with shape (100,2) representing coordinates, find point by point distances (★★☆)"
   ]
  },
  {
   "cell_type": "code",
   "execution_count": 158,
   "id": "4c131014-eb40-4ce8-b7cd-0fd956e6d50d",
   "metadata": {},
   "outputs": [
    {
     "name": "stdout",
     "output_type": "stream",
     "text": [
      "torch.Size([100, 100])\n",
      "tensor([[0.0000, 1.5254, 1.2953,  ..., 0.7519, 1.2113, 1.0398],\n",
      "        [1.5254, 0.0000, 0.3097,  ..., 1.3497, 1.7384, 2.3526],\n",
      "        [1.2953, 0.3097, 0.0000,  ..., 1.2639, 1.4301, 2.0619],\n",
      "        ...,\n",
      "        [0.7519, 1.3497, 1.2639,  ..., 0.0000, 1.8521, 1.7781],\n",
      "        [1.2113, 1.7384, 1.4301,  ..., 1.8521, 0.0000, 1.0360],\n",
      "        [1.0398, 2.3526, 2.0619,  ..., 1.7781, 1.0360, 0.0000]])\n"
     ]
    }
   ],
   "source": [
    "def pairwise_distances(coords):\n",
    "  \"\"\"\n",
    "  Calculates pairwise distances between points in a tensor of coordinates.\n",
    "\n",
    "  Args:\n",
    "    coords: A PyTorch tensor of shape (N, 2) where N is the number of points \n",
    "            and each row represents the (x, y) coordinates of a point.\n",
    "\n",
    "  Returns:\n",
    "    A PyTorch tensor of shape (N, N) containing the pairwise distances.\n",
    "  \"\"\"\n",
    "  # Calculate pairwise differences along each dimension\n",
    "  x_diff = coords[:, 0].unsqueeze(1) - coords[:, 0] \n",
    "  y_diff = coords[:, 1].unsqueeze(1) - coords[:, 1]\n",
    "\n",
    "  # Compute squared distances\n",
    "  squared_dists = x_diff ** 2 + y_diff ** 2\n",
    "\n",
    "  # Compute Euclidean distances\n",
    "  distances = torch.sqrt(squared_dists)\n",
    "\n",
    "  return distances\n",
    "\n",
    "# Example usage\n",
    "coords = torch.randn(100, 2)  # Generate 100 random 2D points\n",
    "distances = pairwise_distances(coords)\n",
    "print(distances.shape)\n",
    "print(distances) "
   ]
  },
  {
   "cell_type": "markdown",
   "id": "cccb83d9-1595-4dec-af86-27d794cbb089",
   "metadata": {},
   "source": [
    "## 53. How to convert a float (32 bits) array into an integer (32 bits) in place?"
   ]
  },
  {
   "cell_type": "code",
   "execution_count": 172,
   "id": "c8467c00-a325-401d-a155-35c982d7e99b",
   "metadata": {},
   "outputs": [
    {
     "name": "stdout",
     "output_type": "stream",
     "text": [
      "tensor([1, 2, 3], dtype=torch.int32)\n"
     ]
    }
   ],
   "source": [
    "# Create a float tensor\n",
    "float_tensor = torch.tensor([1.5, 2.7, 3.2], dtype=torch.float32)\n",
    "\n",
    "# Convert to int in-place\n",
    "float_tensor.data = float_tensor.to(torch.int32)\n",
    "\n",
    "print(float_tensor)"
   ]
  },
  {
   "cell_type": "markdown",
   "id": "741b28c8-f62f-4b2c-b649-82acb62d0499",
   "metadata": {},
   "source": [
    "## 54. How to read the following file? (★★☆)\n",
    "\n",
    "```\n",
    "1, 2, 3, 4, 5\n",
    "6,  ,  , 7, 8\n",
    " ,  , 9,10,11\n",
    "```\n"
   ]
  },
  {
   "cell_type": "code",
   "execution_count": 177,
   "id": "14036104-0753-4431-a089-2a2cfe370465",
   "metadata": {},
   "outputs": [
    {
     "data": {
      "text/plain": [
       "tensor([[ 1,  2,  3,  4,  5],\n",
       "        [ 6, -1, -1,  7,  8],\n",
       "        [-1, -1,  9, 10, 11]], dtype=torch.int32)"
      ]
     },
     "execution_count": 177,
     "metadata": {},
     "output_type": "execute_result"
    }
   ],
   "source": [
    "import numpy as np\n",
    "from io import StringIO\n",
    "\n",
    "# Fake file\n",
    "s = StringIO('''1, 2, 3, 4, 5\n",
    "\n",
    "                6,  ,  , 7, 8\n",
    "\n",
    "                 ,  , 9,10,11\n",
    "''')\n",
    "z = torch.from_numpy(np.genfromtxt(s, delimiter=\",\", dtype=np.int32))\n",
    "z"
   ]
  },
  {
   "cell_type": "markdown",
   "id": "4d9921de-c425-4533-9f41-38155f29447f",
   "metadata": {},
   "source": []
  },
  {
   "cell_type": "markdown",
   "id": "dc52b467-52bd-43d0-ae4c-fd8eab650018",
   "metadata": {},
   "source": [
    "## 55. What is the equivalent of enumerate for torch tensors? (★★☆)"
   ]
  },
  {
   "cell_type": "code",
   "execution_count": 181,
   "id": "3c3ee64f-0735-4ef9-ba2d-e347f3bb9ede",
   "metadata": {},
   "outputs": [],
   "source": [
    "def iterate_tensor(tensor):\n",
    "  \"\"\"\n",
    "  Iterates over all values in a PyTorch tensor of any dimension.\n",
    "\n",
    "  Args:\n",
    "    tensor: The input PyTorch tensor.\n",
    "\n",
    "  Yields:\n",
    "    A tuple containing:\n",
    "      - The current value of the tensor.\n",
    "      - A tuple of indices representing the position of the value in the tensor.\n",
    "  \"\"\"\n",
    "  shape = tensor.shape\n",
    "  indices = torch.zeros(len(shape), dtype=torch.long)  # Initialize indices\n",
    "\n",
    "  while True:\n",
    "    yield tensor[tuple(indices)], tuple(indices)\n",
    "\n",
    "    # Increment indices\n",
    "    dim = 0\n",
    "    while dim < len(shape):\n",
    "      indices[dim] += 1\n",
    "      if indices[dim] < shape[dim]:\n",
    "        break\n",
    "      else:\n",
    "        indices[dim] = 0\n",
    "        dim += 1\n",
    "\n",
    "    # Check if all indices have reached the end\n",
    "    if dim == len(shape):\n",
    "      break"
   ]
  },
  {
   "cell_type": "code",
   "execution_count": 185,
   "id": "382939aa-da3a-418c-bb21-14cb5ba8a46d",
   "metadata": {},
   "outputs": [],
   "source": [
    "z = np.arange(9).reshape(3,3)"
   ]
  },
  {
   "cell_type": "code",
   "execution_count": 186,
   "id": "7781a943-27d9-4060-88c2-7e87b3223d69",
   "metadata": {},
   "outputs": [
    {
     "name": "stdout",
     "output_type": "stream",
     "text": [
      "Value: 0, Indices: (tensor(0), tensor(0))\n",
      "Value: 3, Indices: (tensor(1), tensor(0))\n",
      "Value: 6, Indices: (tensor(2), tensor(0))\n",
      "Value: 1, Indices: (tensor(0), tensor(1))\n",
      "Value: 4, Indices: (tensor(1), tensor(1))\n",
      "Value: 7, Indices: (tensor(2), tensor(1))\n",
      "Value: 2, Indices: (tensor(0), tensor(2))\n",
      "Value: 5, Indices: (tensor(1), tensor(2))\n",
      "Value: 8, Indices: (tensor(2), tensor(2))\n"
     ]
    }
   ],
   "source": [
    "for value, indices in iterate_tensor(z):\n",
    "    print(f\"Value: {value}, Indices: {indices}\") "
   ]
  },
  {
   "cell_type": "markdown",
   "id": "18bfa145-a13b-4235-8bd7-a6b36644a6d9",
   "metadata": {},
   "source": [
    "## 56. Generate a generic 2D Gaussian-like array (★★☆)"
   ]
  },
  {
   "cell_type": "code",
   "execution_count": null,
   "id": "185905ca-5329-42cf-85b4-9a2f9eb9ebaf",
   "metadata": {},
   "outputs": [],
   "source": []
  }
 ],
 "metadata": {
  "kernelspec": {
   "display_name": "Python 3 (ipykernel)",
   "language": "python",
   "name": "python3"
  },
  "language_info": {
   "codemirror_mode": {
    "name": "ipython",
    "version": 3
   },
   "file_extension": ".py",
   "mimetype": "text/x-python",
   "name": "python",
   "nbconvert_exporter": "python",
   "pygments_lexer": "ipython3",
   "version": "3.13.0"
  }
 },
 "nbformat": 4,
 "nbformat_minor": 5
}
