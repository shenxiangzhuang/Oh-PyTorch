{
 "cells": [
  {
   "cell_type": "markdown",
   "id": "aeaa538a-dd8d-4546-bfa6-1366ea51a428",
   "metadata": {},
   "source": [
    "# 100 Numpy Exercises solved in PyTorch"
   ]
  },
  {
   "cell_type": "markdown",
   "id": "720e7d43-f828-4c60-b4cf-cf37e1149055",
   "metadata": {},
   "source": [
    "## 1. Import the torch package(★☆☆)"
   ]
  },
  {
   "cell_type": "code",
   "execution_count": 1,
   "id": "dca529a2-30ce-4394-b846-8747d7b0c1ee",
   "metadata": {},
   "outputs": [],
   "source": [
    "import torch"
   ]
  },
  {
   "cell_type": "markdown",
   "id": "b8126380-db0f-464a-bb6f-606a4362139d",
   "metadata": {},
   "source": [
    "## 2. Print the torch version and the configuration (★☆☆)"
   ]
  },
  {
   "cell_type": "code",
   "execution_count": 26,
   "id": "dc43097a-020e-41b2-88e6-d7654653a8ec",
   "metadata": {},
   "outputs": [
    {
     "name": "stdout",
     "output_type": "stream",
     "text": [
      "2.5.1+cu121\n",
      "CUDA Availability: True\n",
      "CUDA Version: 12.1\n",
      "CUDA Device Count: 1\n",
      "Device 0: NVIDIA GeForce RTX 4060 Ti\n"
     ]
    }
   ],
   "source": [
    "print(torch.__version__)\n",
    "print(f\"CUDA Availability: {torch.cuda.is_available()}\")\n",
    "if torch.cuda.is_available():\n",
    "    print(f\"CUDA Version: {torch.version.cuda}\")\n",
    "    print(f\"CUDA Device Count: {torch.cuda.device_count()}\")\n",
    "    for i in range(torch.cuda.device_count()):\n",
    "        print(f\"Device {i}: {torch.cuda.get_device_name(i)}\")"
   ]
  },
  {
   "cell_type": "markdown",
   "id": "708dab4e-262f-4f24-98b9-8df9226d3b3a",
   "metadata": {},
   "source": [
    "## 3. Create a null vector of size 10 (★☆☆)\n"
   ]
  },
  {
   "cell_type": "code",
   "execution_count": 30,
   "id": "294ea40c-6426-4a24-8a55-5268d5bdaea3",
   "metadata": {},
   "outputs": [
    {
     "data": {
      "text/plain": [
       "tensor([0., 0., 0., 0., 0., 0., 0., 0., 0., 0.])"
      ]
     },
     "execution_count": 30,
     "metadata": {},
     "output_type": "execute_result"
    }
   ],
   "source": [
    "Z = torch.zeros(10)\n",
    "Z"
   ]
  },
  {
   "cell_type": "code",
   "execution_count": 31,
   "id": "6b76c0ac-1437-40e5-a084-ce3c71298468",
   "metadata": {},
   "outputs": [
    {
     "data": {
      "text/plain": [
       "tensor([0., 0., 0., 0., 0., 0., 0., 0., 0., 0.])"
      ]
     },
     "execution_count": 31,
     "metadata": {},
     "output_type": "execute_result"
    }
   ],
   "source": [
    "Z = torch.zeros((10,))\n",
    "Z"
   ]
  },
  {
   "cell_type": "markdown",
   "id": "179b8c98-fec2-42c5-ae8d-8fdc8f5f29d4",
   "metadata": {},
   "source": [
    "## 4. How to find the memory size of any array (★☆☆)"
   ]
  },
  {
   "cell_type": "code",
   "execution_count": 9,
   "id": "cc93bffb-3e17-43f2-81a8-b30c54d4516a",
   "metadata": {},
   "outputs": [
    {
     "data": {
      "text/plain": [
       "tensor([0., 0., 0., 0., 0., 0., 0., 0., 0., 0.])"
      ]
     },
     "execution_count": 9,
     "metadata": {},
     "output_type": "execute_result"
    }
   ],
   "source": [
    "Z = torch.zeros(10)\n",
    "Z"
   ]
  },
  {
   "cell_type": "code",
   "execution_count": 15,
   "id": "37954b6a-113c-45be-8d50-1ed308abac38",
   "metadata": {},
   "outputs": [
    {
     "data": {
      "text/plain": [
       "(torch.float32, 4)"
      ]
     },
     "execution_count": 15,
     "metadata": {},
     "output_type": "execute_result"
    }
   ],
   "source": [
    "Z.dtype, Z.element_size()"
   ]
  },
  {
   "cell_type": "code",
   "execution_count": 18,
   "id": "283da6ce-6888-4174-bd49-6131e5e5438b",
   "metadata": {},
   "outputs": [
    {
     "name": "stdout",
     "output_type": "stream",
     "text": [
      "40 bytes\n"
     ]
    }
   ],
   "source": [
    "print(\"%d bytes\" % (Z.numel() * Z.element_size()))"
   ]
  },
  {
   "cell_type": "markdown",
   "id": "fdc52346-ed71-4fbc-b7d3-0546004f6695",
   "metadata": {},
   "source": [
    "## 5. How to get the documentation of the torch add function from the command line? (★☆☆)"
   ]
  },
  {
   "cell_type": "code",
   "execution_count": 23,
   "id": "11eacf37-ef0e-417e-81b5-53764d117697",
   "metadata": {},
   "outputs": [
    {
     "name": "stdout",
     "output_type": "stream",
     "text": [
      "Help on built-in function add in module torch:\n",
      "\n",
      "add(...)\n",
      "    add(input, other, *, alpha=1, out=None) -> Tensor\n",
      "\n",
      "    Adds :attr:`other`, scaled by :attr:`alpha`, to :attr:`input`.\n",
      "\n",
      "    .. math::\n",
      "        \\text{{out}}_i = \\text{{input}}_i + \\text{{alpha}} \\times \\text{{other}}_i\n",
      "\n",
      "\n",
      "    Supports :ref:`broadcasting to a common shape <broadcasting-semantics>`,\n",
      "    :ref:`type promotion <type-promotion-doc>`, and integer, float, and complex inputs.\n",
      "\n",
      "    Args:\n",
      "        input (Tensor): the input tensor.\n",
      "        other (Tensor or Number): the tensor or number to add to :attr:`input`.\n",
      "\n",
      "    Keyword arguments:\n",
      "        alpha (Number): the multiplier for :attr:`other`.\n",
      "        out (Tensor, optional): the output tensor.\n",
      "\n",
      "    Examples::\n",
      "\n",
      "        >>> a = torch.randn(4)\n",
      "        >>> a\n",
      "        tensor([ 0.0202,  1.0985,  1.3506, -0.6056])\n",
      "        >>> torch.add(a, 20)\n",
      "        tensor([ 20.0202,  21.0985,  21.3506,  19.3944])\n",
      "\n",
      "        >>> b = torch.randn(4)\n",
      "        >>> b\n",
      "        tensor([-0.9732, -0.3497,  0.6245,  0.4022])\n",
      "        >>> c = torch.randn(4, 1)\n",
      "        >>> c\n",
      "        tensor([[ 0.3743],\n",
      "                [-1.7724],\n",
      "                [-0.5811],\n",
      "                [-0.8017]])\n",
      "        >>> torch.add(b, c, alpha=10)\n",
      "        tensor([[  2.7695,   3.3930,   4.3672,   4.1450],\n",
      "                [-18.6971, -18.0736, -17.0994, -17.3216],\n",
      "                [ -6.7845,  -6.1610,  -5.1868,  -5.4090],\n",
      "                [ -8.9902,  -8.3667,  -7.3925,  -7.6147]])\n",
      "\n"
     ]
    }
   ],
   "source": [
    "!python -c \"import torch; help(torch.add)\""
   ]
  },
  {
   "cell_type": "markdown",
   "id": "7211e066-52a7-4c64-b14c-b4ae11e35870",
   "metadata": {},
   "source": [
    "## 6. Create a null vector of size 10 but the fifth value which is 1 (★☆☆)"
   ]
  },
  {
   "cell_type": "code",
   "execution_count": 27,
   "id": "03e57d91-c5ec-4c62-ba46-f518677b74c6",
   "metadata": {},
   "outputs": [
    {
     "data": {
      "text/plain": [
       "tensor([0., 0., 0., 0., 1., 0., 0., 0., 0., 0.])"
      ]
     },
     "execution_count": 27,
     "metadata": {},
     "output_type": "execute_result"
    }
   ],
   "source": [
    "Z = torch.zeros(10)\n",
    "Z[4] = 1\n",
    "Z"
   ]
  },
  {
   "cell_type": "markdown",
   "id": "dff6bb2f-743a-4fcb-ab4d-30881ea1fe0f",
   "metadata": {},
   "source": [
    "## 7. Create a vector with values ranging from 10 to 49 (★☆☆)"
   ]
  },
  {
   "cell_type": "code",
   "execution_count": 29,
   "id": "e19338c3-41c5-4cb2-a5ba-224bf5eb31d3",
   "metadata": {},
   "outputs": [
    {
     "data": {
      "text/plain": [
       "tensor([10, 11, 12, 13, 14, 15, 16, 17, 18, 19, 20, 21, 22, 23, 24, 25, 26, 27,\n",
       "        28, 29, 30, 31, 32, 33, 34, 35, 36, 37, 38, 39, 40, 41, 42, 43, 44, 45,\n",
       "        46, 47, 48, 49])"
      ]
     },
     "execution_count": 29,
     "metadata": {},
     "output_type": "execute_result"
    }
   ],
   "source": [
    "Z = torch.arange(10, 50)\n",
    "Z"
   ]
  },
  {
   "cell_type": "markdown",
   "id": "6d3c215a-5f71-433a-a202-fb6d8bbe57e0",
   "metadata": {},
   "source": [
    "## 8. Reverse a vector (first element becomes last) (★☆☆)"
   ]
  },
  {
   "cell_type": "code",
   "execution_count": 43,
   "id": "d30b38ef-0fd9-4137-9f54-3be1e0d118c8",
   "metadata": {},
   "outputs": [
    {
     "data": {
      "text/plain": [
       "tensor([49, 48, 47, 46, 45, 44, 43, 42, 41, 40, 39, 38, 37, 36, 35, 34, 33, 32,\n",
       "        31, 30, 29, 28, 27, 26, 25, 24, 23, 22, 21, 20, 19, 18, 17, 16, 15, 14,\n",
       "        13, 12, 11, 10,  9,  8,  7,  6,  5,  4,  3,  2,  1,  0])"
      ]
     },
     "execution_count": 43,
     "metadata": {},
     "output_type": "execute_result"
    }
   ],
   "source": [
    "Z = torch.arange(50)\n",
    "Z.flip(dims=[0])"
   ]
  },
  {
   "cell_type": "markdown",
   "id": "a3a825c1-795c-437f-80b1-1b65075a36a0",
   "metadata": {},
   "source": [
    "## 9. Create a 3x3 matrix with values ranging from 0 to 8 (★☆☆)"
   ]
  },
  {
   "cell_type": "code",
   "execution_count": 45,
   "id": "672f6658-68ea-468d-a6d1-d30ae97fbfe4",
   "metadata": {},
   "outputs": [
    {
     "data": {
      "text/plain": [
       "tensor([[0, 1, 2],\n",
       "        [3, 4, 5],\n",
       "        [6, 7, 8]])"
      ]
     },
     "execution_count": 45,
     "metadata": {},
     "output_type": "execute_result"
    }
   ],
   "source": [
    "Z = torch.arange(0, 9).reshape(3, 3)\n",
    "Z"
   ]
  },
  {
   "cell_type": "markdown",
   "id": "6d81477a-ddc1-4e25-a0e2-7aeed9076492",
   "metadata": {},
   "source": [
    "## 10. Find indices of non-zero elements from [1,2,0,0,4,0] (★☆☆)"
   ]
  },
  {
   "cell_type": "code",
   "execution_count": 50,
   "id": "5821a8c5-2ff1-4836-8887-e2c90ee05a19",
   "metadata": {},
   "outputs": [
    {
     "data": {
      "text/plain": [
       "tensor([[0],\n",
       "        [1],\n",
       "        [4]])"
      ]
     },
     "execution_count": 50,
     "metadata": {},
     "output_type": "execute_result"
    }
   ],
   "source": [
    "Z = torch.tensor([1, 2, 0, 0, 4, 0])\n",
    "torch.nonzero(Z)"
   ]
  },
  {
   "cell_type": "markdown",
   "id": "1636a8c5-1734-443a-800c-af937279e52e",
   "metadata": {},
   "source": [
    "## 11. Create a 3x3 identity matrix (★☆☆)"
   ]
  },
  {
   "cell_type": "code",
   "execution_count": 52,
   "id": "507c292e-fe81-4eca-b445-3eb7ebcbb178",
   "metadata": {},
   "outputs": [
    {
     "data": {
      "text/plain": [
       "tensor([[1., 0., 0.],\n",
       "        [0., 1., 0.],\n",
       "        [0., 0., 1.]])"
      ]
     },
     "execution_count": 52,
     "metadata": {},
     "output_type": "execute_result"
    }
   ],
   "source": [
    "Z = torch.eye(3)\n",
    "Z"
   ]
  },
  {
   "cell_type": "markdown",
   "id": "7914d2fa-316e-4107-9de3-845043f06480",
   "metadata": {},
   "source": [
    "## 12. Create a 3x3x3 array with random values (★☆☆)"
   ]
  },
  {
   "cell_type": "code",
   "execution_count": 53,
   "id": "a90a19b0-8734-45fe-980f-d7cc73abf26c",
   "metadata": {},
   "outputs": [
    {
     "data": {
      "text/plain": [
       "tensor([[[0.7813, 0.2612, 0.7086],\n",
       "         [0.3905, 0.4764, 0.1822],\n",
       "         [0.2762, 0.1877, 0.2254]],\n",
       "\n",
       "        [[0.7068, 0.5508, 0.4650],\n",
       "         [0.2931, 0.3319, 0.1810],\n",
       "         [0.8676, 0.3075, 0.2974]],\n",
       "\n",
       "        [[0.3338, 0.5629, 0.6650],\n",
       "         [0.9427, 0.0776, 0.0887],\n",
       "         [0.7359, 0.2024, 0.2977]]])"
      ]
     },
     "execution_count": 53,
     "metadata": {},
     "output_type": "execute_result"
    }
   ],
   "source": [
    "Z = torch.rand((3, 3, 3))\n",
    "Z"
   ]
  },
  {
   "cell_type": "markdown",
   "id": "15c891de-b06f-42fd-85ef-3ae74ffe4a43",
   "metadata": {},
   "source": [
    "## 13. Create a 10x10 array with random values and find the minimum and maximum values (★☆☆)"
   ]
  },
  {
   "cell_type": "code",
   "execution_count": 54,
   "id": "0653024c-dba6-407b-b612-fb682a2bbf43",
   "metadata": {},
   "outputs": [
    {
     "data": {
      "text/plain": [
       "tensor([[0.6987, 0.4993, 0.2781, 0.8940, 0.1022, 0.2070, 0.7184, 0.8178, 0.4489,\n",
       "         0.5454],\n",
       "        [0.3194, 0.7795, 0.6244, 0.1900, 0.5101, 0.4113, 0.4815, 0.6529, 0.5855,\n",
       "         0.0858],\n",
       "        [0.1310, 0.5084, 0.2668, 0.2484, 0.9237, 0.2983, 0.0529, 0.6257, 0.9961,\n",
       "         0.5865],\n",
       "        [0.7279, 0.9093, 0.3798, 0.0875, 0.2139, 0.2360, 0.4008, 0.3717, 0.8071,\n",
       "         0.0961],\n",
       "        [0.3141, 0.5027, 0.7829, 0.7604, 0.9908, 0.4907, 0.6133, 0.6458, 0.7186,\n",
       "         0.1612],\n",
       "        [0.9347, 0.2232, 0.3526, 0.7786, 0.1041, 0.1233, 0.4754, 0.5345, 0.3884,\n",
       "         0.2370],\n",
       "        [0.7211, 0.6968, 0.7469, 0.9882, 0.8844, 0.5487, 0.3475, 0.4388, 0.8117,\n",
       "         0.4838],\n",
       "        [0.0131, 0.4212, 0.4231, 0.2966, 0.6864, 0.0530, 0.6463, 0.9763, 0.8398,\n",
       "         0.8613],\n",
       "        [0.7454, 0.3713, 0.4090, 0.7979, 0.1844, 0.2741, 0.2071, 0.4391, 0.9204,\n",
       "         0.8964],\n",
       "        [0.1655, 0.7173, 0.9922, 0.5248, 0.4402, 0.2859, 0.8191, 0.3131, 0.3076,\n",
       "         0.9152]])"
      ]
     },
     "execution_count": 54,
     "metadata": {},
     "output_type": "execute_result"
    }
   ],
   "source": [
    "Z = torch.rand((10, 10))\n",
    "Z"
   ]
  },
  {
   "cell_type": "code",
   "execution_count": 57,
   "id": "dd237ef8-d4cf-41aa-bf61-6e1651ad4681",
   "metadata": {},
   "outputs": [
    {
     "data": {
      "text/plain": [
       "(tensor(0.0131), tensor(0.9961))"
      ]
     },
     "execution_count": 57,
     "metadata": {},
     "output_type": "execute_result"
    }
   ],
   "source": [
    "Z.min(), Z.max()"
   ]
  },
  {
   "cell_type": "markdown",
   "id": "ffcd569a-d13a-4a44-9d5a-16d9c84e078c",
   "metadata": {},
   "source": [
    "## 14. Create a random vector of size 30 and find the mean value (★☆☆)"
   ]
  },
  {
   "cell_type": "code",
   "execution_count": 58,
   "id": "5b9a76f3-57ab-4479-80ae-628f27fb17e4",
   "metadata": {},
   "outputs": [
    {
     "data": {
      "text/plain": [
       "tensor(0.4322)"
      ]
     },
     "execution_count": 58,
     "metadata": {},
     "output_type": "execute_result"
    }
   ],
   "source": [
    "Z = torch.rand(30)\n",
    "Z.mean()"
   ]
  },
  {
   "cell_type": "markdown",
   "id": "9654e979-7fc8-4adf-8343-59bb79eb6696",
   "metadata": {},
   "source": [
    "## 15. Create a 2d array with 1 on the border and 0 inside (★☆☆)\n"
   ]
  },
  {
   "cell_type": "code",
   "execution_count": 59,
   "id": "63d6f5b0-971f-4a40-bbc4-d72f0aa40678",
   "metadata": {},
   "outputs": [
    {
     "data": {
      "text/plain": [
       "tensor([[1., 1., 1., 1., 1., 1., 1., 1., 1., 1.],\n",
       "        [1., 0., 0., 0., 0., 0., 0., 0., 0., 1.],\n",
       "        [1., 0., 0., 0., 0., 0., 0., 0., 0., 1.],\n",
       "        [1., 0., 0., 0., 0., 0., 0., 0., 0., 1.],\n",
       "        [1., 0., 0., 0., 0., 0., 0., 0., 0., 1.],\n",
       "        [1., 0., 0., 0., 0., 0., 0., 0., 0., 1.],\n",
       "        [1., 0., 0., 0., 0., 0., 0., 0., 0., 1.],\n",
       "        [1., 0., 0., 0., 0., 0., 0., 0., 0., 1.],\n",
       "        [1., 0., 0., 0., 0., 0., 0., 0., 0., 1.],\n",
       "        [1., 1., 1., 1., 1., 1., 1., 1., 1., 1.]])"
      ]
     },
     "execution_count": 59,
     "metadata": {},
     "output_type": "execute_result"
    }
   ],
   "source": [
    "Z = torch.ones(10, 10)\n",
    "Z[1:-1, 1:-1] = 0\n",
    "Z"
   ]
  },
  {
   "cell_type": "markdown",
   "id": "de52aded-4a12-4e3d-bdc5-5910c6d86fc0",
   "metadata": {},
   "source": [
    "## 16. How to add a border (filled with 0's) around an existing array? (★☆☆)"
   ]
  },
  {
   "cell_type": "code",
   "execution_count": 61,
   "id": "66b4e5c5-6b06-4a19-9159-1ce165216912",
   "metadata": {},
   "outputs": [
    {
     "data": {
      "text/plain": [
       "tensor([[1., 1., 1., 1., 1.],\n",
       "        [1., 1., 1., 1., 1.],\n",
       "        [1., 1., 1., 1., 1.],\n",
       "        [1., 1., 1., 1., 1.],\n",
       "        [1., 1., 1., 1., 1.]])"
      ]
     },
     "execution_count": 61,
     "metadata": {},
     "output_type": "execute_result"
    }
   ],
   "source": [
    "Z = torch.ones(5, 5)\n",
    "Z"
   ]
  },
  {
   "cell_type": "code",
   "execution_count": 68,
   "id": "9a77a796-198f-420b-a216-b72327c9d59f",
   "metadata": {},
   "outputs": [
    {
     "data": {
      "text/plain": [
       "tensor([[0., 0., 0., 0., 0., 0., 0.],\n",
       "        [0., 1., 1., 1., 1., 1., 0.],\n",
       "        [0., 1., 1., 1., 1., 1., 0.],\n",
       "        [0., 1., 1., 1., 1., 1., 0.],\n",
       "        [0., 1., 1., 1., 1., 1., 0.],\n",
       "        [0., 1., 1., 1., 1., 1., 0.],\n",
       "        [0., 0., 0., 0., 0., 0., 0.]])"
      ]
     },
     "execution_count": 68,
     "metadata": {},
     "output_type": "execute_result"
    }
   ],
   "source": [
    "border_width = 1\n",
    "torch.nn.functional.pad(Z, \n",
    "                        pad=(border_width, border_width, border_width, border_width), \n",
    "                        mode='constant',\n",
    "                        value=0,\n",
    "                       )"
   ]
  },
  {
   "cell_type": "markdown",
   "id": "8632610f-3be7-4607-a472-06215ba693cd",
   "metadata": {},
   "source": [
    "## 17. What is the result of the following expression? (★☆☆)\n",
    "```python\n",
    "0 * torch.nan\n",
    "torch.nan == torch.nan\n",
    "torch.inf > torch.nan\n",
    "torch.nan - torch.nan\n",
    "torch.nan in set([torch.nan])\n",
    "0.3 == 3 * 0.1\n",
    "```"
   ]
  },
  {
   "cell_type": "code",
   "execution_count": 70,
   "id": "ac21db90-e274-4e81-b356-d33f3dae67b8",
   "metadata": {},
   "outputs": [
    {
     "data": {
      "text/plain": [
       "nan"
      ]
     },
     "execution_count": 70,
     "metadata": {},
     "output_type": "execute_result"
    }
   ],
   "source": [
    "0 * torch.nan"
   ]
  },
  {
   "cell_type": "code",
   "execution_count": 71,
   "id": "e837383d-aa00-47a9-a539-de139fe6a09f",
   "metadata": {},
   "outputs": [
    {
     "data": {
      "text/plain": [
       "False"
      ]
     },
     "execution_count": 71,
     "metadata": {},
     "output_type": "execute_result"
    }
   ],
   "source": [
    "torch.nan == torch.nan"
   ]
  },
  {
   "cell_type": "code",
   "execution_count": 72,
   "id": "3f0896dc-8b48-46fa-9201-b37bcff9a4fd",
   "metadata": {},
   "outputs": [
    {
     "data": {
      "text/plain": [
       "False"
      ]
     },
     "execution_count": 72,
     "metadata": {},
     "output_type": "execute_result"
    }
   ],
   "source": [
    "torch.inf > torch.nan"
   ]
  },
  {
   "cell_type": "code",
   "execution_count": 73,
   "id": "24358979-710c-465f-a73b-c6cd72073ce1",
   "metadata": {},
   "outputs": [
    {
     "data": {
      "text/plain": [
       "nan"
      ]
     },
     "execution_count": 73,
     "metadata": {},
     "output_type": "execute_result"
    }
   ],
   "source": [
    "torch.nan - torch.nan"
   ]
  },
  {
   "cell_type": "code",
   "execution_count": 74,
   "id": "b3b07fdc-6d96-4a5b-b6f4-e4ba09b865dd",
   "metadata": {},
   "outputs": [
    {
     "data": {
      "text/plain": [
       "True"
      ]
     },
     "execution_count": 74,
     "metadata": {},
     "output_type": "execute_result"
    }
   ],
   "source": [
    "torch.nan in set([torch.nan])"
   ]
  },
  {
   "cell_type": "code",
   "execution_count": 75,
   "id": "9d24067d-785b-4ea8-9c15-71be7e6524e6",
   "metadata": {},
   "outputs": [
    {
     "data": {
      "text/plain": [
       "False"
      ]
     },
     "execution_count": 75,
     "metadata": {},
     "output_type": "execute_result"
    }
   ],
   "source": [
    "0.3 == 3 * 0.1"
   ]
  },
  {
   "cell_type": "markdown",
   "id": "05c5bc04-49c7-4e56-a368-c57aae2af521",
   "metadata": {},
   "source": [
    "## 18. Create a 5x5 matrix with values 1,2,3,4 just below the diagonal (★☆☆)"
   ]
  },
  {
   "cell_type": "code",
   "execution_count": 76,
   "id": "daa5a465-4f40-43a2-a967-f958dfbb0b59",
   "metadata": {},
   "outputs": [
    {
     "data": {
      "text/plain": [
       "tensor([[0, 0, 0, 0, 0],\n",
       "        [1, 0, 0, 0, 0],\n",
       "        [0, 2, 0, 0, 0],\n",
       "        [0, 0, 3, 0, 0],\n",
       "        [0, 0, 0, 4, 0]])"
      ]
     },
     "execution_count": 76,
     "metadata": {},
     "output_type": "execute_result"
    }
   ],
   "source": [
    "Z = torch.tensor([1, 2, 3, 4])\n",
    "torch.diag(Z, diagonal=-1) "
   ]
  },
  {
   "cell_type": "markdown",
   "id": "f4973ddf-0687-4f22-9869-c21442dd59ca",
   "metadata": {},
   "source": [
    "## 19. Create a 8x8 matrix and fill it with a checkerboard pattern (★☆☆)"
   ]
  },
  {
   "cell_type": "code",
   "execution_count": 78,
   "id": "7c3deaf0-8812-448a-a3a3-512f527e211b",
   "metadata": {},
   "outputs": [
    {
     "data": {
      "text/plain": [
       "tensor([[0., 1., 0., 1., 0., 1., 0., 1.],\n",
       "        [1., 0., 1., 0., 1., 0., 1., 0.],\n",
       "        [0., 1., 0., 1., 0., 1., 0., 1.],\n",
       "        [1., 0., 1., 0., 1., 0., 1., 0.],\n",
       "        [0., 1., 0., 1., 0., 1., 0., 1.],\n",
       "        [1., 0., 1., 0., 1., 0., 1., 0.],\n",
       "        [0., 1., 0., 1., 0., 1., 0., 1.],\n",
       "        [1., 0., 1., 0., 1., 0., 1., 0.]])"
      ]
     },
     "execution_count": 78,
     "metadata": {},
     "output_type": "execute_result"
    }
   ],
   "source": [
    "Z = torch.zeros((8, 8))\n",
    "Z[1::2, ::2] = 1  # rows: 2, 4, 6, 8\n",
    "Z[::2, 1::2] = 1  # rows: 1， 3， 5， 7\n",
    "Z"
   ]
  },
  {
   "cell_type": "markdown",
   "id": "d7d25d51-fe51-45c6-a9b3-fe6d7b808f87",
   "metadata": {},
   "source": [
    "## 20. Consider a (6,7,8) shape array, what is the index (x,y,z) of the 100th element? (★☆☆)"
   ]
  },
  {
   "cell_type": "code",
   "execution_count": 87,
   "id": "af6cb575-4589-4fd9-8bc8-ab10fc158572",
   "metadata": {},
   "outputs": [
    {
     "data": {
      "text/plain": [
       "(tensor(1), tensor(5), tensor(3))"
      ]
     },
     "execution_count": 87,
     "metadata": {},
     "output_type": "execute_result"
    }
   ],
   "source": [
    "torch.unravel_index(torch.tensor(99), (6, 7, 8))"
   ]
  },
  {
   "cell_type": "markdown",
   "id": "fe74a08e-9683-42c0-b898-e2c60c2d9f88",
   "metadata": {},
   "source": [
    "## 21. Create a checkerboard 8x8 matrix using the tile function (★☆☆)"
   ]
  },
  {
   "cell_type": "code",
   "execution_count": 3,
   "id": "2fe8e85c-f742-4fdf-b6a6-762d78ac30e4",
   "metadata": {},
   "outputs": [
    {
     "data": {
      "text/plain": [
       "tensor([[0, 1, 0, 1, 0, 1, 0, 1],\n",
       "        [1, 0, 1, 0, 1, 0, 1, 0],\n",
       "        [0, 1, 0, 1, 0, 1, 0, 1],\n",
       "        [1, 0, 1, 0, 1, 0, 1, 0],\n",
       "        [0, 1, 0, 1, 0, 1, 0, 1],\n",
       "        [1, 0, 1, 0, 1, 0, 1, 0],\n",
       "        [0, 1, 0, 1, 0, 1, 0, 1],\n",
       "        [1, 0, 1, 0, 1, 0, 1, 0]])"
      ]
     },
     "execution_count": 3,
     "metadata": {},
     "output_type": "execute_result"
    }
   ],
   "source": [
    "Z = torch.tile( torch.tensor([[0, 1], [1, 0]]), (4,4))\n",
    "Z"
   ]
  },
  {
   "cell_type": "markdown",
   "id": "df42c85b-970a-42e0-b0d0-4df9e56f7285",
   "metadata": {},
   "source": [
    "## 22. Normalize a 5x5 random matrix (★☆☆)"
   ]
  },
  {
   "cell_type": "code",
   "execution_count": 13,
   "id": "42a0e6b8-8a51-4543-9a76-34581167a2f5",
   "metadata": {},
   "outputs": [
    {
     "data": {
      "text/plain": [
       "tensor([[ 2.3758, -0.1250, -1.0375,  0.0600, -0.0931],\n",
       "        [-1.0247,  0.3465,  0.1357, -0.0830, -0.1694],\n",
       "        [ 1.3879, -1.3475, -1.8516,  1.1368, -0.1087],\n",
       "        [-1.2090, -0.1777,  0.3642,  1.4081, -0.5958],\n",
       "        [-0.3453, -0.2897,  1.1209,  1.0911, -0.9690]])"
      ]
     },
     "execution_count": 13,
     "metadata": {},
     "output_type": "execute_result"
    }
   ],
   "source": [
    "Z = torch.rand((5,5))\n",
    "Z = (Z - torch.mean (Z)) / (torch.std (Z))\n",
    "Z"
   ]
  },
  {
   "cell_type": "markdown",
   "id": "e6047775-a654-4fcc-8e9a-c8fff0bfcca7",
   "metadata": {},
   "source": [
    "## (Skip)23. Create a custom dtype that describes a color as four unsigned bytes (RGBA) (★☆☆)\n",
    "\n",
    "We cannot do this in PyTorch."
   ]
  },
  {
   "cell_type": "markdown",
   "id": "4e37c6f8-33b9-4f67-9edd-cc9472ee43fe",
   "metadata": {},
   "source": [
    "## 24. Multiply a 5x3 matrix by a 3x2 matrix (real matrix product) (★☆☆)"
   ]
  },
  {
   "cell_type": "code",
   "execution_count": 19,
   "id": "0059f4be-5e96-449e-a7ca-4308a0f34811",
   "metadata": {},
   "outputs": [
    {
     "data": {
      "text/plain": [
       "tensor([[3., 3.],\n",
       "        [3., 3.],\n",
       "        [3., 3.],\n",
       "        [3., 3.],\n",
       "        [3., 3.]])"
      ]
     },
     "execution_count": 19,
     "metadata": {},
     "output_type": "execute_result"
    }
   ],
   "source": [
    "Z = torch.matmul(torch.ones((5, 3)), torch.ones((3, 2)))\n",
    "Z"
   ]
  },
  {
   "cell_type": "markdown",
   "id": "ba66fb59-0c88-46aa-89d8-f08e3cc1184e",
   "metadata": {},
   "source": [
    "## 25. Given a 1D array, negate all elements which are between 3 and 8, in place. (★☆☆)"
   ]
  },
  {
   "cell_type": "code",
   "execution_count": 21,
   "id": "92af090e-cb70-48f5-ac10-276c4aeedb7b",
   "metadata": {},
   "outputs": [
    {
     "data": {
      "text/plain": [
       "tensor([ 0,  1,  2,  3, -4, -5, -6, -7,  8,  9, 10])"
      ]
     },
     "execution_count": 21,
     "metadata": {},
     "output_type": "execute_result"
    }
   ],
   "source": [
    "Z = torch.arange(11)\n",
    "Z[(3 < Z) & (Z < 8)] *= -1\n",
    "Z"
   ]
  },
  {
   "cell_type": "code",
   "execution_count": null,
   "id": "93927f8a-fc08-4909-860c-93c5eefbc1d0",
   "metadata": {},
   "outputs": [],
   "source": []
  }
 ],
 "metadata": {
  "kernelspec": {
   "display_name": "Python 3 (ipykernel)",
   "language": "python",
   "name": "python3"
  },
  "language_info": {
   "codemirror_mode": {
    "name": "ipython",
    "version": 3
   },
   "file_extension": ".py",
   "mimetype": "text/x-python",
   "name": "python",
   "nbconvert_exporter": "python",
   "pygments_lexer": "ipython3",
   "version": "3.13.0"
  }
 },
 "nbformat": 4,
 "nbformat_minor": 5
}
